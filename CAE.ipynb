{
  "nbformat": 4,
  "nbformat_minor": 0,
  "metadata": {
    "colab": {
      "name": "CAE.ipynb",
      "version": "0.3.2",
      "provenance": [],
      "collapsed_sections": [],
      "include_colab_link": true
    },
    "kernelspec": {
      "name": "python3",
      "display_name": "Python 3"
    },
    "accelerator": "GPU"
  },
  "cells": [
    {
      "cell_type": "markdown",
      "metadata": {
        "id": "view-in-github",
        "colab_type": "text"
      },
      "source": [
        "<a href=\"https://colab.research.google.com/github/CheshireCat12/Deep_learning_challenges/blob/master/CAE.ipynb\" target=\"_parent\"><img src=\"https://colab.research.google.com/assets/colab-badge.svg\" alt=\"Open In Colab\"/></a>"
      ]
    },
    {
      "metadata": {
        "id": "sntx_lwj07Ji",
        "colab_type": "code",
        "colab": {}
      },
      "cell_type": "code",
      "source": [
        "import numpy as np\n",
        "\n",
        "%matplotlib inline\n",
        "import matplotlib.pyplot as plt\n",
        "\n",
        "import torch\n",
        "import torch.nn as nn\n",
        "import torchvision.datasets as datasets\n",
        "import torchvision.transforms as transforms\n",
        "\n",
        "from torch.autograd import Variable\n",
        "from torch.utils.data import DataLoader"
      ],
      "execution_count": 0,
      "outputs": []
    },
    {
      "metadata": {
        "id": "e6aKRDZy0_EX",
        "colab_type": "code",
        "colab": {}
      },
      "cell_type": "code",
      "source": [
        "DOWNLOAD_DATASET = True\n",
        "BATCH_SIZE = 64\n",
        "NB_TEST_IMG = 5\n",
        "NB_EPOCHS = 10\n",
        "DEVICE= torch.device(\"cuda:0\" if torch.cuda.is_available() else \"cpu\")"
      ],
      "execution_count": 0,
      "outputs": []
    },
    {
      "metadata": {
        "id": "c4GhVDo41EOW",
        "colab_type": "code",
        "colab": {
          "base_uri": "https://localhost:8080/",
          "height": 260
        },
        "outputId": "565d825b-6442-4897-90e9-17a99b0742f6"
      },
      "cell_type": "code",
      "source": [
        "norm_mean = [0.1307]\n",
        "norm_std = [0.3081]\n",
        "\n",
        "pre_process = transforms.Compose([transforms.ToTensor(),\n",
        "                                  transforms.Normalize(\n",
        "                                    mean=norm_mean,\n",
        "                                    std=norm_std)])\n",
        "\n",
        "train_data = datasets.MNIST(root='./data',\n",
        "                            train=True,\n",
        "                            transform=pre_process,\n",
        "                            download=True)\n",
        " \n",
        "train_loader = DataLoader(train_data,\n",
        "                          batch_size=BATCH_SIZE,\n",
        "                          shuffle=True)"
      ],
      "execution_count": 5,
      "outputs": [
        {
          "output_type": "stream",
          "text": [
            "\r0it [00:00, ?it/s]"
          ],
          "name": "stderr"
        },
        {
          "output_type": "stream",
          "text": [
            "Downloading http://yann.lecun.com/exdb/mnist/train-images-idx3-ubyte.gz to ./data/MNIST/raw/train-images-idx3-ubyte.gz\n"
          ],
          "name": "stdout"
        },
        {
          "output_type": "stream",
          "text": [
            "9920512it [00:06, 1611911.43it/s]                            \n"
          ],
          "name": "stderr"
        },
        {
          "output_type": "stream",
          "text": [
            "Extracting ./data/MNIST/raw/train-images-idx3-ubyte.gz\n"
          ],
          "name": "stdout"
        },
        {
          "output_type": "stream",
          "text": [
            "  0%|          | 0/28881 [00:00<?, ?it/s]"
          ],
          "name": "stderr"
        },
        {
          "output_type": "stream",
          "text": [
            "Downloading http://yann.lecun.com/exdb/mnist/train-labels-idx1-ubyte.gz to ./data/MNIST/raw/train-labels-idx1-ubyte.gz\n"
          ],
          "name": "stdout"
        },
        {
          "output_type": "stream",
          "text": [
            "32768it [00:00, 132548.45it/s]           \n",
            "  0%|          | 0/1648877 [00:00<?, ?it/s]"
          ],
          "name": "stderr"
        },
        {
          "output_type": "stream",
          "text": [
            "Extracting ./data/MNIST/raw/train-labels-idx1-ubyte.gz\n",
            "Downloading http://yann.lecun.com/exdb/mnist/t10k-images-idx3-ubyte.gz to ./data/MNIST/raw/t10k-images-idx3-ubyte.gz\n"
          ],
          "name": "stdout"
        },
        {
          "output_type": "stream",
          "text": [
            "1654784it [00:00, 2215965.34it/s]                            \n",
            "0it [00:00, ?it/s]"
          ],
          "name": "stderr"
        },
        {
          "output_type": "stream",
          "text": [
            "Extracting ./data/MNIST/raw/t10k-images-idx3-ubyte.gz\n",
            "Downloading http://yann.lecun.com/exdb/mnist/t10k-labels-idx1-ubyte.gz to ./data/MNIST/raw/t10k-labels-idx1-ubyte.gz\n"
          ],
          "name": "stdout"
        },
        {
          "output_type": "stream",
          "text": [
            "8192it [00:00, 50569.33it/s]            \n"
          ],
          "name": "stderr"
        },
        {
          "output_type": "stream",
          "text": [
            "Extracting ./data/MNIST/raw/t10k-labels-idx1-ubyte.gz\n",
            "Processing...\n",
            "Done!\n"
          ],
          "name": "stdout"
        }
      ]
    },
    {
      "metadata": {
        "id": "pVS9gLID1G_M",
        "colab_type": "code",
        "colab": {}
      },
      "cell_type": "code",
      "source": [
        "class ConvolutionAutoEncoder(nn.Module):\n",
        "    \n",
        "    def __init__(self):\n",
        "        super(ConvolutionAutoEncoder, self).__init__()\n",
        "        \n",
        "        # (n + 2p - f)/s + 1\n",
        "        self.encoder = nn.Sequential(\n",
        "            nn.Conv2d(1, 16, kernel_size=3), # 8, 26, 26\n",
        "            nn.ReLU(),\n",
        "            nn.Conv2d(16, 32, kernel_size=5), # 16, 24, 24\n",
        "            nn.ReLU(),\n",
        "            nn.Conv2d(32, 16, kernel_size=3), # 8, 10, 10\n",
        "            nn.ReLU(),\n",
        "            nn.Conv2d(16, 8, kernel_size=3), # 8, 10, 10\n",
        "            nn.ReLU(),\n",
        "        )\n",
        "        \n",
        "        # 11\n",
        "        # 21 padding 2 \n",
        "        # 20 \n",
        "        # s(n-1)+f-2p\n",
        "        self.decoder = nn.Sequential(\n",
        "            nn.ConvTranspose2d(8, 16, kernel_size=3), # 16, 9, 9\n",
        "            nn.ReLU(),\n",
        "            nn.ConvTranspose2d(16, 32, kernel_size=3), # 16, 9, 9\n",
        "            nn.ReLU(),\n",
        "            nn.ConvTranspose2d(32, 16, kernel_size=5), # 16, 17, 17\n",
        "            nn.ReLU(),\n",
        "            nn.ConvTranspose2d(16, 1, kernel_size=3), # 1, 28, 28\n",
        "            nn.Sigmoid()\n",
        "        )\n",
        "        \n",
        "        \n",
        "        # self.encoder = nn.Sequential(\n",
        "        #     nn.Conv2d(1, 6, kernel_size=5), # 6, 24, 24\n",
        "        #     nn.ReLU(),\n",
        "        #     nn.Conv2d(6, 16, kernel_size=5), # 16, 20, 20\n",
        "        #     nn.ReLU()\n",
        "        # )\n",
        "# \n",
        "        # self.decoder = nn.Sequential(             \n",
        "        #     nn.ConvTranspose2d(16, 6, kernel_size=5),\n",
        "        #     nn.ReLU(),\n",
        "        #     nn.ConvTranspose2d(6, 1, kernel_size=5),\n",
        "        #     nn.ReLU(),\n",
        "        #     nn.Sigmoid()\n",
        "        # )\n",
        "        \n",
        "    def forward(self, x):\n",
        "        encoded = self.encoder(x)\n",
        "        #print(encoded.size())\n",
        "        decoded = self.decoder(encoded)\n",
        "        \n",
        "        return encoded, decoded"
      ],
      "execution_count": 0,
      "outputs": []
    },
    {
      "metadata": {
        "id": "5QgyaEt51Oc1",
        "colab_type": "code",
        "outputId": "d7aada2d-13f4-4020-a588-ed75840eb147",
        "colab": {
          "base_uri": "https://localhost:8080/",
          "height": 399
        }
      },
      "cell_type": "code",
      "source": [
        "CAE = ConvolutionAutoEncoder()\n",
        "CAE.to(DEVICE)\n",
        "print(CAE)\n",
        "\n",
        "optimizer_cae = torch.optim.Adam(CAE.parameters(), weight_decay=1e-5)\n",
        "loss_func_cae = nn.MSELoss()\n",
        "\n",
        "view_data_cae = Variable(train_data.data[:NB_TEST_IMG].view(-1, 1, 28, 28).type(torch.cuda.FloatTensor))"
      ],
      "execution_count": 56,
      "outputs": [
        {
          "output_type": "stream",
          "text": [
            "ConvolutionAutoEncoder(\n",
            "  (encoder): Sequential(\n",
            "    (0): Conv2d(1, 16, kernel_size=(3, 3), stride=(1, 1))\n",
            "    (1): ReLU()\n",
            "    (2): Conv2d(16, 32, kernel_size=(5, 5), stride=(1, 1))\n",
            "    (3): ReLU()\n",
            "    (4): Conv2d(32, 16, kernel_size=(3, 3), stride=(1, 1))\n",
            "    (5): ReLU()\n",
            "    (6): Conv2d(16, 8, kernel_size=(3, 3), stride=(1, 1))\n",
            "    (7): ReLU()\n",
            "  )\n",
            "  (decoder): Sequential(\n",
            "    (0): ConvTranspose2d(8, 16, kernel_size=(3, 3), stride=(1, 1))\n",
            "    (1): ReLU()\n",
            "    (2): ConvTranspose2d(16, 32, kernel_size=(3, 3), stride=(1, 1))\n",
            "    (3): ReLU()\n",
            "    (4): ConvTranspose2d(32, 16, kernel_size=(5, 5), stride=(1, 1))\n",
            "    (5): ReLU()\n",
            "    (6): ConvTranspose2d(16, 1, kernel_size=(3, 3), stride=(1, 1))\n",
            "    (7): Sigmoid()\n",
            "  )\n",
            ")\n"
          ],
          "name": "stdout"
        }
      ]
    },
    {
      "metadata": {
        "id": "rIiiPS3C1Vw8",
        "colab_type": "code",
        "colab": {}
      },
      "cell_type": "code",
      "source": [
        "def plot_img(model, view_data):\n",
        "    _, decoded_data = model(view_data)  \n",
        "    \n",
        "    f, a = plt.subplots(2, NB_TEST_IMG, figsize=(10, 4))\n",
        "    \n",
        "    for i in range(NB_TEST_IMG):\n",
        "        a[0][i].imshow(np.reshape(view_data.cpu().data.numpy()[i],\n",
        "                                   (28, 28)),\n",
        "                                   cmap='gray')\n",
        "        a[0][i].set_xticks(())\n",
        "        a[0][i].set_yticks(())\n",
        "    \n",
        "        \n",
        "    for i in range(NB_TEST_IMG):\n",
        "        a[1][i].imshow(np.reshape(decoded_data.cpu().data.numpy()[i],\n",
        "                                   (28, 28)),\n",
        "                                   cmap='gray')\n",
        "        a[1][i].set_xticks(())\n",
        "        a[1][i].set_yticks(())\n",
        "\n",
        "    plt.show()\n",
        "    \n",
        "\n",
        "def trainCAE(model, data_loader, view_data, loss_func, optimizer):\n",
        "    for epoch in range(NB_EPOCHS):\n",
        "        for x, _ in data_loader:\n",
        "            x = Variable(x).to(DEVICE)\n",
        "            y = Variable(x).to(DEVICE)\n",
        "            \n",
        "            # ===================forward=====================\n",
        "            encoded, decoded = model(x)\n",
        "            loss = loss_func(decoded, y)\n",
        "            # ===================backward=====================\n",
        "            optimizer.zero_grad()\n",
        "            loss.backward()\n",
        "            optimizer.step()\n",
        "            \n",
        "        print(f'Epoch: {epoch}/{NB_EPOCHS} | Loss: {loss.item():.4f}')\n",
        "        \n",
        "        #if not epoch % 5:\n",
        "        plot_img(model, view_data)"
      ],
      "execution_count": 0,
      "outputs": []
    },
    {
      "metadata": {
        "id": "siovCscF8dYW",
        "colab_type": "code",
        "outputId": "9a1fa251-4ee9-48ee-d41e-3509b570e0d8",
        "colab": {
          "base_uri": "https://localhost:8080/",
          "height": 2481
        }
      },
      "cell_type": "code",
      "source": [
        "trainCAE(CAE, train_loader, view_data_cae, loss_func_cae, optimizer_cae)"
      ],
      "execution_count": 59,
      "outputs": [
        {
          "output_type": "stream",
          "text": [
            "Epoch: 0/10 | Loss: 0.4530\n"
          ],
          "name": "stdout"
        },
        {
          "output_type": "display_data",
          "data": {
            "image/png": "[encoded data removed]",
            "text/plain": [
              "<Figure size 720x288 with 10 Axes>"
            ]
          },
          "metadata": {
            "tags": []
          }
        },
        {
          "output_type": "stream",
          "text": [
            "Epoch: 1/10 | Loss: 0.4734\n"
          ],
          "name": "stdout"
        },
        {
          "output_type": "display_data",
          "data": {
            "image/png": "[encoded data removed]",
            "text/plain": [
              "<Figure size 720x288 with 10 Axes>"
            ]
          },
          "metadata": {
            "tags": []
          }
        },
        {
          "output_type": "stream",
          "text": [
            "Epoch: 2/10 | Loss: 0.4420\n"
          ],
          "name": "stdout"
        },
        {
          "output_type": "display_data",
          "data": {
            "image/png": "[encoded data removed]",
            "text/plain": [
              "<Figure size 720x288 with 10 Axes>"
            ]
          },
          "metadata": {
            "tags": []
          }
        },
        {
          "output_type": "stream",
          "text": [
            "Epoch: 3/10 | Loss: 0.4729\n"
          ],
          "name": "stdout"
        },
        {
          "output_type": "display_data",
          "data": {
            "image/png": "[encoded data removed]",
            "text/plain": [
              "<Figure size 720x288 with 10 Axes>"
            ]
          },
          "metadata": {
            "tags": []
          }
        },
        {
          "output_type": "stream",
          "text": [
            "Epoch: 4/10 | Loss: 0.4444\n"
          ],
          "name": "stdout"
        },
        {
          "output_type": "display_data",
          "data": {
            "image/png": "[encoded data removed]",
            "text/plain": [
              "<Figure size 720x288 with 10 Axes>"
            ]
          },
          "metadata": {
            "tags": []
          }
        },
        {
          "output_type": "stream",
          "text": [
            "Epoch: 5/10 | Loss: 0.4383\n"
          ],
          "name": "stdout"
        },
        {
          "output_type": "display_data",
          "data": {
            "image/png": "[encoded data removed]",
            "text/plain": [
              "<Figure size 720x288 with 10 Axes>"
            ]
          },
          "metadata": {
            "tags": []
          }
        },
        {
          "output_type": "stream",
          "text": [
            "Epoch: 6/10 | Loss: 0.4652\n"
          ],
          "name": "stdout"
        },
        {
          "output_type": "display_data",
          "data": {
            "image/png": "[encoded data removed]",
            "text/plain": [
              "<Figure size 720x288 with 10 Axes>"
            ]
          },
          "metadata": {
            "tags": []
          }
        },
        {
          "output_type": "stream",
          "text": [
            "Epoch: 7/10 | Loss: 0.4632\n"
          ],
          "name": "stdout"
        },
        {
          "output_type": "display_data",
          "data": {
            "image/png": "[encoded data removed]",
            "text/plain": [
              "<Figure size 720x288 with 10 Axes>"
            ]
          },
          "metadata": {
            "tags": []
          }
        },
        {
          "output_type": "stream",
          "text": [
            "Epoch: 8/10 | Loss: 0.4721\n"
          ],
          "name": "stdout"
        },
        {
          "output_type": "display_data",
          "data": {
            "image/png": "[encoded data removed]",
            "text/plain": [
              "<Figure size 720x288 with 10 Axes>"
            ]
          },
          "metadata": {
            "tags": []
          }
        },
        {
          "output_type": "stream",
          "text": [
            "Epoch: 9/10 | Loss: 0.4430\n"
          ],
          "name": "stdout"
        },
        {
          "output_type": "display_data",
          "data": {
            "image/png": "[encoded data removed]",
            "text/plain": [
              "<Figure size 720x288 with 10 Axes>"
            ]
          },
          "metadata": {
            "tags": []
          }
        }
      ]
    },
    {
      "metadata": {
        "id": "aF7OCdyd_8r_",
        "colab_type": "code",
        "outputId": "eb690c78-ee27-49a5-c161-d1b8603f9e99",
        "colab": {
          "base_uri": "https://localhost:8080/",
          "height": 246
        }
      },
      "cell_type": "code",
      "source": [
        "plot_img(CAE, view_data_cae)"
      ],
      "execution_count": 60,
      "outputs": [
        {
          "output_type": "display_data",
          "data": {
            "image/png": "[encoded data removed]",
            "text/plain": [
              "<Figure size 720x288 with 10 Axes>"
            ]
          },
          "metadata": {
            "tags": []
          }
        }
      ]
    },
    {
      "metadata": {
        "id": "lFzAv2iaEteO",
        "colab_type": "code",
        "colab": {}
      },
      "cell_type": "code",
      "source": [
        ""
      ],
      "execution_count": 0,
      "outputs": []
    }
  ]
}