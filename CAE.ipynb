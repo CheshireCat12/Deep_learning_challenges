{
  "nbformat": 4,
  "nbformat_minor": 0,
  "metadata": {
    "colab": {
      "name": "CAE.ipynb",
      "version": "0.3.2",
      "provenance": [],
      "collapsed_sections": [],
      "include_colab_link": true
    },
    "kernelspec": {
      "name": "python3",
      "display_name": "Python 3"
    },
    "accelerator": "GPU"
  },
  "cells": [
    {
      "cell_type": "markdown",
      "metadata": {
        "id": "view-in-github",
        "colab_type": "text"
      },
      "source": [
        "<a href=\"https://colab.research.google.com/github/CheshireCat12/Deep_learning_challenges/blob/master/CAE.ipynb\" target=\"_parent\"><img src=\"https://colab.research.google.com/assets/colab-badge.svg\" alt=\"Open In Colab\"/></a>"
      ]
    },
    {
      "metadata": {
        "id": "sntx_lwj07Ji",
        "colab_type": "code",
        "colab": {}
      },
      "cell_type": "code",
      "source": [
        "import numpy as np\n",
        "\n",
        "%matplotlib inline\n",
        "import matplotlib.pyplot as plt\n",
        "\n",
        "import torch\n",
        "import torch.nn as nn\n",
        "import torchvision.datasets as datasets\n",
        "import torchvision.transforms as transforms\n",
        "\n",
        "from torch.autograd import Variable\n",
        "from torch.utils.data import DataLoader"
      ],
      "execution_count": 0,
      "outputs": []
    },
    {
      "metadata": {
        "id": "e6aKRDZy0_EX",
        "colab_type": "code",
        "colab": {}
      },
      "cell_type": "code",
      "source": [
        "DOWNLOAD_DATASET = True\n",
        "BATCH_SIZE = 64\n",
        "NB_TEST_IMG = 5\n",
        "NB_EPOCHS = 10\n",
        "DEVICE= torch.device(\"cuda:0\" if torch.cuda.is_available() else \"cpu\")"
      ],
      "execution_count": 0,
      "outputs": []
    },
    {
      "metadata": {
        "id": "c4GhVDo41EOW",
        "colab_type": "code",
        "colab": {}
      },
      "cell_type": "code",
      "source": [
        "norm_mean = [0.1307]\n",
        "norm_std = [0.3081]\n",
        "\n",
        "pre_process = transforms.Compose([transforms.ToTensor(),\n",
        "                                  transforms.Normalize(\n",
        "                                    mean=norm_mean,\n",
        "                                    std=norm_std)])\n",
        "\n",
        "train_data = datasets.MNIST(root='./data',\n",
        "                            train=True,\n",
        "                            transform=pre_process,\n",
        "                            download=True)\n",
        " \n",
        "train_loader = DataLoader(train_data,\n",
        "                          batch_size=BATCH_SIZE,\n",
        "                          shuffle=True)"
      ],
      "execution_count": 0,
      "outputs": []
    },
    {
      "metadata": {
        "id": "pVS9gLID1G_M",
        "colab_type": "code",
        "colab": {}
      },
      "cell_type": "code",
      "source": [
        "class ConvolutionAutoEncoder(nn.Module):\n",
        "    \n",
        "    def __init__(self):\n",
        "        super(ConvolutionAutoEncoder, self).__init__()\n",
        "        \n",
        "        # self.encoder = nn.Sequential(\n",
        "        #     nn.Conv2d(1, 16, kernel_size=3, padding=1), # 16, 28, 28\n",
        "        #     nn.ReLU(),\n",
        "        #     nn.MaxPool2d(2), # 16, 14, 14\n",
        "        #     nn.Conv2d(16, 8, kernel_size=3, padding=1), # 8, 14, 14\n",
        "        #     nn.ReLU(),\n",
        "        #     nn.MaxPool2d(2), # 8, 7, 7\n",
        "        #     nn.Conv2d(8, 8, kernel_size=3, padding=1), # 8, 7, 7\n",
        "        #     nn.ReLU(),\n",
        "        #     nn.MaxPool2d(2, stride=1) # 8, 6, 6\n",
        "        # )\n",
        "        # \n",
        "        # self.decoder = nn.Sequential(\n",
        "        #     nn.ConvTranspose2d(8, 16, kernel_size=3, stride=1), # 16, 8, 8\n",
        "        #     nn.ReLU(),\n",
        "        #     nn.ConvTranspose2d(16, 8, kernel_size=5, stride=2, padding=1), # 16, 17, 17\n",
        "        #     nn.ReLU(),\n",
        "        #     nn.ConvTranspose2d(8, 1, kernel_size=2, stride=2, padding=3), # 1, 28, 28\n",
        "        #     nn.Tanh()\n",
        "        # )\n",
        "        \n",
        "        # self.encoder = nn.Sequential(\n",
        "        #     nn.Conv2d(1, 16, 3, stride=3, padding=1),  # b, 16, 10, 10\n",
        "        #     nn.ReLU(True),\n",
        "        #     nn.MaxPool2d(2, stride=2),  # b, 16, 5, 5\n",
        "        #     nn.Conv2d(16, 8, 3, stride=2, padding=1),  # b, 8, 3, 3\n",
        "        #     nn.ReLU(True),\n",
        "        #     nn.MaxPool2d(2, stride=1)  # b, 8, 2, 2\n",
        "        # )\n",
        "        # self.decoder = nn.Sequential(\n",
        "        #     nn.ConvTranspose2d(8, 16, 3, stride=2),  # b, 16, 5, 5\n",
        "        #     nn.ReLU(True),\n",
        "        #     nn.ConvTranspose2d(16, 8, 5, stride=3, padding=1),  # b, 8, 15, 15\n",
        "        #     nn.ReLU(True),\n",
        "        #     nn.ConvTranspose2d(8, 1, 2, stride=2, padding=1),  # b, 1, 28, 28\n",
        "        #     nn.Tanh()\n",
        "        # )\n",
        "        \n",
        "        self.encoder = nn.Sequential(\n",
        "            nn.Conv2d(1, 6, kernel_size=5),\n",
        "            nn.ReLU(),\n",
        "            nn.Conv2d(6, 16, kernel_size=5),\n",
        "            nn.ReLU()\n",
        "        )\n",
        "\n",
        "        self.decoder = nn.Sequential(             \n",
        "            nn.ConvTranspose2d(16, 6, kernel_size=5),\n",
        "            nn.ReLU(),\n",
        "            nn.ConvTranspose2d(6, 1, kernel_size=5),\n",
        "            #nn.ReLU(),\n",
        "            nn.Sigmoid()\n",
        "        )\n",
        "        \n",
        "    def forward(self, x):\n",
        "        encoded = self.encoder(x)\n",
        "        decoded = self.decoder(encoded)\n",
        "        \n",
        "        return encoded, decoded"
      ],
      "execution_count": 0,
      "outputs": []
    },
    {
      "metadata": {
        "id": "5QgyaEt51Oc1",
        "colab_type": "code",
        "outputId": "864af330-818d-4dcb-ec11-cd705258d3da",
        "colab": {
          "base_uri": "https://localhost:8080/",
          "height": 260
        }
      },
      "cell_type": "code",
      "source": [
        "CAE = ConvolutionAutoEncoder()\n",
        "CAE.to(DEVICE)\n",
        "print(CAE)\n",
        "\n",
        "optimizer_cae = torch.optim.Adam(CAE.parameters(), weight_decay=1e-5)\n",
        "loss_func_cae = nn.MSELoss()\n",
        "\n",
        "view_data_cae = Variable(train_data.data[:NB_TEST_IMG].view(-1, 1, 28, 28).type(torch.cuda.FloatTensor))"
      ],
      "execution_count": 49,
      "outputs": [
        {
          "output_type": "stream",
          "text": [
            "ConvolutionAutoEncoder(\n",
            "  (encoder): Sequential(\n",
            "    (0): Conv2d(1, 6, kernel_size=(5, 5), stride=(1, 1))\n",
            "    (1): ReLU()\n",
            "    (2): Conv2d(6, 16, kernel_size=(5, 5), stride=(1, 1))\n",
            "    (3): ReLU()\n",
            "  )\n",
            "  (decoder): Sequential(\n",
            "    (0): ConvTranspose2d(16, 6, kernel_size=(5, 5), stride=(1, 1))\n",
            "    (1): ReLU()\n",
            "    (2): ConvTranspose2d(6, 1, kernel_size=(5, 5), stride=(1, 1))\n",
            "    (3): Sigmoid()\n",
            "  )\n",
            ")\n"
          ],
          "name": "stdout"
        }
      ]
    },
    {
      "metadata": {
        "id": "rIiiPS3C1Vw8",
        "colab_type": "code",
        "colab": {}
      },
      "cell_type": "code",
      "source": [
        "def plot_img(model, view_data):\n",
        "    _, decoded_data = model(view_data)  \n",
        "    \n",
        "    f, a = plt.subplots(2, NB_TEST_IMG, figsize=(10, 4))\n",
        "    \n",
        "    for i in range(NB_TEST_IMG):\n",
        "        a[0][i].imshow(np.reshape(view_data.cpu().data.numpy()[i],\n",
        "                                   (28, 28)),\n",
        "                                   cmap='gray')\n",
        "        a[0][i].set_xticks(())\n",
        "        a[0][i].set_yticks(())\n",
        "    \n",
        "        \n",
        "    for i in range(NB_TEST_IMG):\n",
        "        a[1][i].imshow(np.reshape(decoded_data.cpu().data.numpy()[i],\n",
        "                                   (28, 28)),\n",
        "                                   cmap='gray')\n",
        "        a[1][i].set_xticks(())\n",
        "        a[1][i].set_yticks(())\n",
        "\n",
        "    plt.show()\n",
        "    \n",
        "\n",
        "def trainCAE(model, data_loader, view_data, loss_func, optimizer):\n",
        "    for epoch in range(NB_EPOCHS):\n",
        "        for x, _ in data_loader:\n",
        "            x = Variable(x).to(DEVICE)\n",
        "            y = Variable(x).to(DEVICE)\n",
        "            \n",
        "            # ===================forward=====================\n",
        "            encoded, decoded = model(x)\n",
        "            loss = loss_func(decoded, y)\n",
        "            # ===================backward=====================\n",
        "            optimizer.zero_grad()\n",
        "            loss.backward()\n",
        "            optimizer.step()\n",
        "            \n",
        "        print(f'Epoch: {epoch}/{NB_EPOCHS} | Loss: {loss.item():.4f}')\n",
        "        \n",
        "        if not epoch % 5:\n",
        "            plot_img(model, view_data)"
      ],
      "execution_count": 0,
      "outputs": []
    },
    {
      "metadata": {
        "id": "siovCscF8dYW",
        "colab_type": "code",
        "outputId": "190b7c64-7314-40ae-e6a5-78d4ef7b1adc",
        "colab": {
          "base_uri": "https://localhost:8080/",
          "height": 649
        }
      },
      "cell_type": "code",
      "source": [
        "trainCAE(CAE, train_loader, view_data_cae, loss_func_cae, optimizer_cae)"
      ],
      "execution_count": 51,
      "outputs": [
        {
          "output_type": "stream",
          "text": [
            "Epoch: 0/10 | Loss: 0.4425\n"
          ],
          "name": "stdout"
        },
        {
          "output_type": "display_data",
          "data": {
            "image/png": "[encoded data removed]",
            "text/plain": [
              "<Figure size 720x288 with 10 Axes>"
            ]
          },
          "metadata": {
            "tags": []
          }
        },
        {
          "output_type": "stream",
          "text": [
            "Epoch: 1/10 | Loss: 0.4526\n",
            "Epoch: 2/10 | Loss: 0.5122\n",
            "Epoch: 3/10 | Loss: 0.4504\n",
            "Epoch: 4/10 | Loss: 0.4406\n",
            "Epoch: 5/10 | Loss: 0.4607\n"
          ],
          "name": "stdout"
        },
        {
          "output_type": "display_data",
          "data": {
            "image/png": "[encoded data removed]",
            "text/plain": [
              "<Figure size 720x288 with 10 Axes>"
            ]
          },
          "metadata": {
            "tags": []
          }
        },
        {
          "output_type": "stream",
          "text": [
            "Epoch: 6/10 | Loss: 0.4463\n",
            "Epoch: 7/10 | Loss: 0.4558\n",
            "Epoch: 8/10 | Loss: 0.4548\n",
            "Epoch: 9/10 | Loss: 0.4447\n"
          ],
          "name": "stdout"
        }
      ]
    },
    {
      "metadata": {
        "id": "aF7OCdyd_8r_",
        "colab_type": "code",
        "outputId": "80c1801d-815c-4c7c-cd78-64e991afc98a",
        "colab": {
          "base_uri": "https://localhost:8080/",
          "height": 246
        }
      },
      "cell_type": "code",
      "source": [
        "plot_img(CAE, view_data_cae)"
      ],
      "execution_count": 52,
      "outputs": [
        {
          "output_type": "display_data",
          "data": {
            "image/png": "[encoded data removed]",
            "text/plain": [
              "<Figure size 720x288 with 10 Axes>"
            ]
          },
          "metadata": {
            "tags": []
          }
        }
      ]
    },
    {
      "metadata": {
        "id": "lFzAv2iaEteO",
        "colab_type": "code",
        "colab": {}
      },
      "cell_type": "code",
      "source": [
        ""
      ],
      "execution_count": 0,
      "outputs": []
    }
  ]
}