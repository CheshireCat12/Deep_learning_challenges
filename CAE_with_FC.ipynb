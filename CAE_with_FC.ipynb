{
  "nbformat": 4,
  "nbformat_minor": 0,
  "metadata": {
    "colab": {
      "name": "CAE_with_FC.ipynb",
      "version": "0.3.2",
      "provenance": [],
      "collapsed_sections": [],
      "include_colab_link": true
    },
    "kernelspec": {
      "name": "python3",
      "display_name": "Python 3"
    },
    "accelerator": "GPU"
  },
  "cells": [
    {
      "cell_type": "markdown",
      "metadata": {
        "id": "view-in-github",
        "colab_type": "text"
      },
      "source": [
        "<a href=\"https://colab.research.google.com/github/CheshireCat12/Deep_learning_challenges/blob/master/CAE_with_FC.ipynb\" target=\"_parent\"><img src=\"https://colab.research.google.com/assets/colab-badge.svg\" alt=\"Open In Colab\"/></a>"
      ]
    },
    {
      "metadata": {
        "id": "Ru52d-nFnaQQ",
        "colab_type": "code",
        "colab": {}
      },
      "cell_type": "code",
      "source": [
        "import numpy as np\n",
        "\n",
        "%matplotlib inline\n",
        "import matplotlib.pyplot as plt\n",
        "\n",
        "import torch\n",
        "import torch.nn as nn\n",
        "import torchvision.datasets as datasets\n",
        "import torchvision.transforms as transforms\n",
        "from torch.nn import functional as F\n",
        "\n",
        "from torch.autograd import Variable\n",
        "from torch.utils.data import DataLoader"
      ],
      "execution_count": 0,
      "outputs": []
    },
    {
      "metadata": {
        "id": "J1FkFN1Gne5b",
        "colab_type": "code",
        "colab": {}
      },
      "cell_type": "code",
      "source": [
        "DOWNLOAD_DATASET = False\n",
        "BATCH_SIZE = 64\n",
        "NB_TEST_IMG = 5\n",
        "NB_EPOCHS = 50\n",
        "DEVICE= torch.device(\"cuda:0\" if torch.cuda.is_available() else \"cpu\")"
      ],
      "execution_count": 0,
      "outputs": []
    },
    {
      "metadata": {
        "id": "qnqCI_Vqnl97",
        "colab_type": "code",
        "colab": {}
      },
      "cell_type": "code",
      "source": [
        "norm_mean = [0.1307]\n",
        "norm_std = [0.3081]\n",
        "\n",
        "pre_process = transforms.Compose([\n",
        "        transforms.ToTensor(),\n",
        "        transforms.Normalize(mean=(0.5, 0.5, 0.5),\n",
        "                             std=(0.5, 0.5, 0.5))])\n",
        "\n",
        "train_data = datasets.MNIST(root='./data',\n",
        "                            train=True,\n",
        "                            transform=pre_process,\n",
        "                            download=True)\n",
        " \n",
        "train_loader = DataLoader(train_data,\n",
        "                          batch_size=BATCH_SIZE,\n",
        "                          shuffle=True)"
      ],
      "execution_count": 0,
      "outputs": []
    },
    {
      "metadata": {
        "id": "M1PQQDpVnoTD",
        "colab_type": "code",
        "colab": {}
      },
      "cell_type": "code",
      "source": [
        "class ConvolutionAutoEncoder(nn.Module):\n",
        "    \n",
        "    def __init__(self):\n",
        "        super(ConvolutionAutoEncoder, self).__init__()\n",
        "        \n",
        "\n",
        "        filters = [3, 32, 20]\n",
        "        \n",
        "        \n",
        "        # (n + 2p - f)/s + 1\n",
        "        self.encoder = nn.Sequential(\n",
        "            nn.Conv2d(1, filters[0], kernel_size=3, stride=1, padding=1), # 32, 14, 14\n",
        "            nn.ReLU(),\n",
        "            nn.Conv2d(filters[0], filters[1], kernel_size=2, stride=2, padding=0), # 64, 7, 7\n",
        "            nn.ReLU(),\n",
        "            nn.Conv2d(filters[1], filters[1], kernel_size=3, stride=1, padding=1), # 128, 3, 3\n",
        "            nn.ReLU(),\n",
        "            nn.Conv2d(filters[1], filters[1], kernel_size=3, stride=1, padding=1), # 64, 7, 7\n",
        "            nn.ReLU(),\n",
        "        )\n",
        "        \n",
        "        self.fc = nn.Sequential(\n",
        "            nn.Linear(filters[1]*14*14, 128),\n",
        "            nn.ReLU(),\n",
        "            nn.Linear(128, 20),\n",
        "            nn.ReLU(),\n",
        "            nn.Linear(20, 128),\n",
        "            nn.ReLU(),\n",
        "            nn.Linear(128, filters[1]*14*14),\n",
        "            nn.ReLU()\n",
        "        )\n",
        "\n",
        "        # s(n-1)+f-2p\n",
        "        self.decoder = nn.Sequential(\n",
        "            nn.ConvTranspose2d(filters[1], filters[1], kernel_size=3, stride=1, padding=1), # 64, 7, 7\n",
        "            nn.ReLU(),\n",
        "            nn.ConvTranspose2d(filters[1], 16, kernel_size=3, stride=1, padding=1), # 16, 14, 14\n",
        "            nn.ReLU(),\n",
        "            nn.ConvTranspose2d(16, 1, kernel_size=2, stride=2, padding=0), # 1, 28, 28\n",
        "            nn.ReLU(),\n",
        "            #nn.Conv2d(filters[1], 1, kernel_size=3, stride=1, padding=1), # 16, 14, 14\n",
        "            #nn.ReLU(),\n",
        "            nn.Sigmoid()\n",
        "        )\n",
        "        \n",
        "    def forward(self, x):\n",
        "        encoded = self.encoder(x)\n",
        "        #print(encoded.size())\n",
        "        # flat the image\n",
        "        x = encoded.view(encoded.size(0), -1)\n",
        "        #print(x.size())\n",
        "        \n",
        "        x = self.fc(x)\n",
        "        \n",
        "        #print(x.size())\n",
        "        \n",
        "        x = x.view(x.size(0), 32, 14, 14)\n",
        "        \n",
        "        #print(x.size())\n",
        "        \n",
        "        decoded = self.decoder(x)\n",
        "        \n",
        "        #print(decoded.size())\n",
        "        \n",
        "        return encoded, decoded"
      ],
      "execution_count": 0,
      "outputs": []
    },
    {
      "metadata": {
        "id": "tXHg_is9rC3p",
        "colab_type": "code",
        "colab": {
          "base_uri": "https://localhost:8080/",
          "height": 555
        },
        "outputId": "523ddda5-9a88-4335-834e-ee78de638047"
      },
      "cell_type": "code",
      "source": [
        "CAE = ConvolutionAutoEncoder()\n",
        "CAE.to(DEVICE)\n",
        "print(CAE)\n",
        "\n",
        "def loss_function1(recon_x, x):\n",
        "    # print(recon_x.size())\n",
        "    # print(x.size())\n",
        "    return F.binary_cross_entropy(recon_x.view(-1, 28*28),\n",
        "                                    x.view(-1, 28*28), size_average=False)\n",
        "\n",
        "#optimizer_cae = torch.optim.Adam(CAE.parameters(), weight_decay=1e-5)\n",
        "# optimizer_cae = torch.optim.SGD(CAE.parameters(), lr=0.02, momentum=0.85)\n",
        "optimizer_cae = torch.optim.RMSprop(CAE.parameters(), lr=1e-3)\n",
        "loss_func_cae = nn.MSELoss()\n",
        "\n",
        "view_data_cae = Variable(train_data.data[:NB_TEST_IMG].view(-1, 1, 28, 28).type(torch.cuda.FloatTensor))"
      ],
      "execution_count": 171,
      "outputs": [
        {
          "output_type": "stream",
          "text": [
            "ConvolutionAutoEncoder(\n",
            "  (encoder): Sequential(\n",
            "    (0): Conv2d(1, 3, kernel_size=(3, 3), stride=(1, 1), padding=(1, 1))\n",
            "    (1): ReLU()\n",
            "    (2): Conv2d(3, 32, kernel_size=(2, 2), stride=(2, 2))\n",
            "    (3): ReLU()\n",
            "    (4): Conv2d(32, 32, kernel_size=(3, 3), stride=(1, 1), padding=(1, 1))\n",
            "    (5): ReLU()\n",
            "    (6): Conv2d(32, 32, kernel_size=(3, 3), stride=(1, 1), padding=(1, 1))\n",
            "    (7): ReLU()\n",
            "  )\n",
            "  (fc): Sequential(\n",
            "    (0): Linear(in_features=6272, out_features=128, bias=True)\n",
            "    (1): ReLU()\n",
            "    (2): Linear(in_features=128, out_features=20, bias=True)\n",
            "    (3): ReLU()\n",
            "    (4): Linear(in_features=20, out_features=128, bias=True)\n",
            "    (5): ReLU()\n",
            "    (6): Linear(in_features=128, out_features=6272, bias=True)\n",
            "    (7): ReLU()\n",
            "  )\n",
            "  (decoder): Sequential(\n",
            "    (0): ConvTranspose2d(32, 32, kernel_size=(3, 3), stride=(1, 1), padding=(1, 1))\n",
            "    (1): ReLU()\n",
            "    (2): ConvTranspose2d(32, 16, kernel_size=(3, 3), stride=(1, 1), padding=(1, 1))\n",
            "    (3): ReLU()\n",
            "    (4): ConvTranspose2d(16, 1, kernel_size=(2, 2), stride=(2, 2))\n",
            "    (5): ReLU()\n",
            "    (6): Sigmoid()\n",
            "  )\n",
            ")\n"
          ],
          "name": "stdout"
        }
      ]
    },
    {
      "metadata": {
        "id": "XjyG2Sn-rJjN",
        "colab_type": "code",
        "colab": {
          "base_uri": "https://localhost:8080/",
          "height": 2065
        },
        "outputId": "af317189-cd32-4532-d23a-3155df1098e7"
      },
      "cell_type": "code",
      "source": [
        "trainCAE(CAE, train_loader, view_data_cae, optimizer_cae)"
      ],
      "execution_count": 175,
      "outputs": [
        {
          "output_type": "stream",
          "text": [
            "/usr/local/lib/python3.6/dist-packages/torch/nn/_reduction.py:49: UserWarning: size_average and reduce args will be deprecated, please use reduction='sum' instead.\n",
            "  warnings.warn(warning.format(ret))\n"
          ],
          "name": "stderr"
        },
        {
          "output_type": "stream",
          "text": [
            "Epoch: 0/50 | Loss: -66884.5156\n"
          ],
          "name": "stdout"
        },
        {
          "output_type": "display_data",
          "data": {
            "image/png": "[encoded data removed]",
            "text/plain": [
              "<Figure size 720x288 with 10 Axes>"
            ]
          },
          "metadata": {
            "tags": []
          }
        },
        {
          "output_type": "stream",
          "text": [
            "Epoch: 1/50 | Loss: -77744.9922\n",
            "Epoch: 2/50 | Loss: -84971.4766\n",
            "Epoch: 3/50 | Loss: -88694.2344\n",
            "Epoch: 4/50 | Loss: -99098.3984\n",
            "Epoch: 5/50 | Loss: -70506.9297\n",
            "Epoch: 6/50 | Loss: -87835.2188\n",
            "Epoch: 7/50 | Loss: -86224.2422\n",
            "Epoch: 8/50 | Loss: -72331.0234\n",
            "Epoch: 9/50 | Loss: -79880.0703\n",
            "Epoch: 10/50 | Loss: -71071.2109\n"
          ],
          "name": "stdout"
        },
        {
          "output_type": "display_data",
          "data": {
            "image/png": "[encoded data removed]",
            "text/plain": [
              "<Figure size 720x288 with 10 Axes>"
            ]
          },
          "metadata": {
            "tags": []
          }
        },
        {
          "output_type": "stream",
          "text": [
            "Epoch: 11/50 | Loss: -82139.2109\n",
            "Epoch: 12/50 | Loss: -68202.5703\n",
            "Epoch: 13/50 | Loss: -76129.6562\n",
            "Epoch: 14/50 | Loss: -69360.0859\n",
            "Epoch: 15/50 | Loss: -79559.8125\n",
            "Epoch: 16/50 | Loss: -57240.1016\n",
            "Epoch: 17/50 | Loss: -65735.2344\n",
            "Epoch: 18/50 | Loss: -56027.8086\n",
            "Epoch: 19/50 | Loss: -61797.9375\n",
            "Epoch: 20/50 | Loss: -71227.5234\n"
          ],
          "name": "stdout"
        },
        {
          "output_type": "display_data",
          "data": {
            "image/png": "[encoded data removed]",
            "text/plain": [
              "<Figure size 720x288 with 10 Axes>"
            ]
          },
          "metadata": {
            "tags": []
          }
        },
        {
          "output_type": "stream",
          "text": [
            "Epoch: 21/50 | Loss: -58120.1562\n",
            "Epoch: 22/50 | Loss: -56547.3516\n",
            "Epoch: 23/50 | Loss: -62227.6406\n",
            "Epoch: 24/50 | Loss: -58375.2500\n",
            "Epoch: 25/50 | Loss: -73768.6719\n",
            "Epoch: 26/50 | Loss: -42777.3047\n",
            "Epoch: 27/50 | Loss: -47815.6797\n",
            "Epoch: 28/50 | Loss: -36700.1953\n",
            "Epoch: 29/50 | Loss: -50050.8594\n",
            "Epoch: 30/50 | Loss: -59150.8359\n"
          ],
          "name": "stdout"
        },
        {
          "output_type": "display_data",
          "data": {
            "image/png": "[encoded data removed]",
            "text/plain": [
              "<Figure size 720x288 with 10 Axes>"
            ]
          },
          "metadata": {
            "tags": []
          }
        },
        {
          "output_type": "stream",
          "text": [
            "Epoch: 31/50 | Loss: -46321.6953\n",
            "Epoch: 32/50 | Loss: -42755.8398\n",
            "Epoch: 33/50 | Loss: -59979.2070\n",
            "Epoch: 34/50 | Loss: -57591.8594\n",
            "Epoch: 35/50 | Loss: -33870.2812\n",
            "Epoch: 36/50 | Loss: -62280.0703\n",
            "Epoch: 37/50 | Loss: -51013.4688\n",
            "Epoch: 38/50 | Loss: -49135.0469\n",
            "Epoch: 39/50 | Loss: -36501.5703\n",
            "Epoch: 40/50 | Loss: -51633.6445\n"
          ],
          "name": "stdout"
        },
        {
          "output_type": "display_data",
          "data": {
            "image/png": "[encoded data removed]",
            "text/plain": [
              "<Figure size 720x288 with 10 Axes>"
            ]
          },
          "metadata": {
            "tags": []
          }
        },
        {
          "output_type": "stream",
          "text": [
            "Epoch: 41/50 | Loss: -60778.2773\n",
            "Epoch: 42/50 | Loss: -49905.0742\n",
            "Epoch: 43/50 | Loss: -33586.9922\n",
            "Epoch: 44/50 | Loss: -30744.1836\n",
            "Epoch: 45/50 | Loss: -57824.3828\n",
            "Epoch: 46/50 | Loss: -63156.2578\n",
            "Epoch: 47/50 | Loss: -30016.0391\n",
            "Epoch: 48/50 | Loss: -56995.8984\n",
            "Epoch: 49/50 | Loss: -44579.6172\n"
          ],
          "name": "stdout"
        }
      ]
    },
    {
      "metadata": {
        "id": "JVqUK-LPrD1Q",
        "colab_type": "code",
        "colab": {}
      },
      "cell_type": "code",
      "source": [
        "def plot_img(model, view_data):\n",
        "    _, decoded_data = model(view_data)  \n",
        "    \n",
        "    f, a = plt.subplots(2, NB_TEST_IMG, figsize=(10, 4))\n",
        "    \n",
        "    for i in range(NB_TEST_IMG):\n",
        "        a[0][i].imshow(np.reshape(view_data.cpu().data.numpy()[i],\n",
        "                                   (28, 28)),\n",
        "                                   cmap='gray')\n",
        "        a[0][i].set_xticks(())\n",
        "        a[0][i].set_yticks(())\n",
        "    \n",
        "        \n",
        "    for i in range(NB_TEST_IMG):\n",
        "        a[1][i].imshow(np.reshape(decoded_data.cpu().data.numpy()[i],\n",
        "                                   (28, 28)),\n",
        "                                   cmap='gray')\n",
        "        a[1][i].set_xticks(())\n",
        "        a[1][i].set_yticks(())\n",
        "\n",
        "    plt.show()\n",
        "    \n",
        "\n",
        "def trainCAE(model, data_loader, view_data, optimizer):\n",
        "    for epoch in range(NB_EPOCHS):\n",
        "        for x, _ in data_loader:\n",
        "            x = Variable(x).to(DEVICE)\n",
        "            y = Variable(x).to(DEVICE)\n",
        "            \n",
        "            # ===================forward=====================\n",
        "            encoded, decoded = model(x)\n",
        "            loss = loss_function1(decoded, y)\n",
        "            # ===================backward=====================\n",
        "            optimizer.zero_grad()\n",
        "            loss.backward()\n",
        "            optimizer.step()\n",
        "            \n",
        "        print(f'Epoch: {epoch}/{NB_EPOCHS} | Loss: {loss.item():.4f}')\n",
        "        \n",
        "        if not epoch % 10:\n",
        "            plot_img(model, view_data)"
      ],
      "execution_count": 0,
      "outputs": []
    },
    {
      "metadata": {
        "id": "W8t-vNJ9yiY7",
        "colab_type": "code",
        "colab": {
          "base_uri": "https://localhost:8080/",
          "height": 246
        },
        "outputId": "8343f884-915e-43ba-c05a-bbfe2112b60b"
      },
      "cell_type": "code",
      "source": [
        "plot_img(CAE, view_data_cae)"
      ],
      "execution_count": 176,
      "outputs": [
        {
          "output_type": "display_data",
          "data": {
            "image/png": "[encoded data removed]",
            "text/plain": [
              "<Figure size 720x288 with 10 Axes>"
            ]
          },
          "metadata": {
            "tags": []
          }
        }
      ]
    },
    {
      "metadata": {
        "id": "Fc7aGaIA4nqs",
        "colab_type": "code",
        "colab": {}
      },
      "cell_type": "code",
      "source": [
        ""
      ],
      "execution_count": 0,
      "outputs": []
    }
  ]
}