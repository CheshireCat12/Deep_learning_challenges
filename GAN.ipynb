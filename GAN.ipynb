{
  "nbformat": 4,
  "nbformat_minor": 0,
  "metadata": {
    "colab": {
      "name": "GAN.ipynb",
      "version": "0.3.2",
      "provenance": [],
      "collapsed_sections": []
    },
    "kernelspec": {
      "name": "python3",
      "display_name": "Python 3"
    },
    "accelerator": "GPU"
  },
  "cells": [
    {
      "metadata": {
        "id": "eM1_eNxr7fo3",
        "colab_type": "code",
        "colab": {}
      },
      "cell_type": "code",
      "source": [
        "import torch\n",
        "import torchvision\n",
        "import torch.nn as nn\n",
        "import torch.nn.functional as F\n",
        "import torchvision.datasets as dsets\n",
        "import torchvision.transforms as transforms\n",
        "import torchvision.utils as vutils\n",
        "import torch.optim as optim\n",
        "\n",
        "from torch.utils.data import DataLoader\n",
        "from torch.autograd import Variable"
      ],
      "execution_count": 0,
      "outputs": []
    },
    {
      "metadata": {
        "id": "qlwQdtdP8K5-",
        "colab_type": "code",
        "colab": {}
      },
      "cell_type": "code",
      "source": [
        "# Image preprocessing\n",
        "# transform = transforms.Compose([transforms.Resize(128),\n",
        "#                                 transforms.ToTensor(),\n",
        "#                                 transforms.Normalize(mean=(0.5, 0.5, 0.5),\n",
        "#                                                      std=(0.5, 0.5, 0.5))])\n",
        "\n",
        "# Image preprocessing\n",
        "transform3 = transforms.Compose([transforms.Resize(128),\n",
        "                                transforms.ToTensor()])\n",
        "\n",
        "transform1 = transforms.Compose([transforms.Resize(128),\n",
        "                                 transforms.Grayscale(),\n",
        "                                transforms.ToTensor()])\n",
        "# transform = transforms.Compose([transforms.ToTensor(),\n",
        "#                                 transforms.Normalize(mean=(0.5, 0.5, 0.5),\n",
        "#                                                      std=(0.5, 0.5, 0.5))])"
      ],
      "execution_count": 0,
      "outputs": []
    },
    {
      "metadata": {
        "id": "cGaHIYy_hLdy",
        "colab_type": "code",
        "colab": {
          "base_uri": "https://localhost:8080/",
          "height": 34
        },
        "outputId": "41ebb4d1-66b4-46cb-c6de-295fa531f880"
      },
      "cell_type": "code",
      "source": [
        "from torchvision.datasets import STL10\n",
        "from skimage import io, color\n",
        "from PIL import Image\n",
        "\n",
        "class STL10GrayColor(STL10):\n",
        "    \n",
        "    def __getitem__(self, index):\n",
        "        \"\"\"\n",
        "        Overwrite the original method to return a grayscaled image and\n",
        "        the same image with the colors.\n",
        "        \n",
        "        Input:\n",
        "            index(int): index of the desired image\n",
        "            \n",
        "        Return:\n",
        "            tensor_gray_img(torch.Tensor): image in black and white\n",
        "            tensor_img(torch.Tensor): image in RGB\n",
        "        \"\"\"\n",
        "        img = self.data[index]\n",
        "\n",
        "        img = Image.fromarray(np.transpose(img, (1, 2, 0)))\n",
        "\n",
        "        if self.transform is not None:\n",
        "            img = self.transform(img)\n",
        "            \n",
        "            # Convert img RGB -> Lab\n",
        "            lab_img = color.rgb2lab(img)\n",
        "            \n",
        "            # Transpose the lab img: dim 128x128x3 -> 3x128x128\n",
        "            L, a, b = np.transpose(lab_img, (2, 0, 1))\n",
        "            \n",
        "            # Normalize\n",
        "            gray_img = (L + 128) / 255\n",
        "            color_img = np.asarray(img, dtype=np.float32) / 255\n",
        "            \n",
        "            # Transform numpy array to torch tensor\n",
        "            tensor_gray_img = torch.tensor(gray_img.astype(np.float32))\n",
        "            tensor_img = torch.tensor(np.transpose(color_img, (2, 0, 1)))\n",
        "            \n",
        "\n",
        "        return (tensor_gray_img, tensor_img)\n",
        "    \n",
        "# Image preprocessing\n",
        "transform = transforms.Compose([transforms.Resize(128)])\n",
        "\n",
        "# Load STL10 dataset\n",
        "stl10_trainset = STL10GrayColor(root=\"./data\",\n",
        "                                split='train',\n",
        "                                download=True,\n",
        "                                transform=transform)\n",
        "\n",
        "# Parameters\n",
        "params_loader = {'batch_size': 32,\n",
        "                 'shuffle': False}\n",
        "\n",
        "train_loader = DataLoader(stl10_trainset, **params_loader)"
      ],
      "execution_count": 16,
      "outputs": [
        {
          "output_type": "stream",
          "text": [
            "Files already downloaded and verified\n"
          ],
          "name": "stdout"
        }
      ]
    },
    {
      "metadata": {
        "id": "A5y_U0C18X0d",
        "colab_type": "code",
        "outputId": "7a48b28d-1e9c-478e-9582-298c2f1839b7",
        "colab": {
          "base_uri": "https://localhost:8080/",
          "height": 34
        }
      },
      "cell_type": "code",
      "source": [
        "stl10 = dsets.STL10(root=\"./data\",\n",
        "                   download=True,\n",
        "                    split='train+unlabeled',\n",
        "                  transform=transform3)\n",
        "\n",
        "\n",
        "# Load CIFAR 10 dataset\n",
        "# cifar_trainset = dsets.CIFAR10(root=\"./data\",\n",
        "#                                train=True,\n",
        "#                                download=True,\n",
        "#                                transform=transform)\n",
        "# \n"
      ],
      "execution_count": 0,
      "outputs": [
        {
          "output_type": "stream",
          "text": [
            "Files already downloaded and verified\n"
          ],
          "name": "stdout"
        }
      ]
    },
    {
      "metadata": {
        "id": "JtMQqR6P85Y8",
        "colab_type": "code",
        "colab": {}
      },
      "cell_type": "code",
      "source": [
        "batch_size = 128\n",
        "# Parameters loader\n",
        "# cifar_loader = DataLoader(cifar_trainset,\n",
        "#                           batch_size=batch_size,\n",
        "#                           shuffle=True)\n",
        "# \n",
        "shuffle = False\n",
        "stl10_loader = DataLoader(stl10,\n",
        "                         batch_size=batch_size,\n",
        "                         shuffle=shuffle)\n",
        "\n"
      ],
      "execution_count": 0,
      "outputs": []
    },
    {
      "metadata": {
        "id": "y-pu4_6eLKoT",
        "colab_type": "code",
        "outputId": "ad028a68-6967-4b24-929a-b0501667482c",
        "colab": {
          "base_uri": "https://localhost:8080/",
          "height": 506
        }
      },
      "cell_type": "code",
      "source": [
        "%matplotlib inline\n",
        "import matplotlib.pyplot as plt\n",
        "import numpy as np\n",
        "from skimage import io, color\n",
        "\n",
        "def plot_img(images):\n",
        "    f, a = plt.subplots(1, len(images), figsize=(14, 6))\n",
        "    \n",
        "    for i, image in enumerate(images):\n",
        "        # img = image.permute(1, 2, 0).numpy()\n",
        "        print(image.shape)\n",
        "        a[i].imshow(image, cmap=plt.cm.gray)\n",
        "        \n",
        "        a[i].set_xticks(())\n",
        "        a[i].set_yticks(())\n",
        "    \n",
        "\n",
        "    plt.show()\n",
        "    \n",
        "\n",
        "for image, _ in stl10_loader:\n",
        "    img = image[0].permute(1, 2, 0).numpy()\n",
        "    # plot_img(image[:5])\n",
        "    # print(img.shape)\n",
        "    # print(img)\n",
        "    plt.imshow(img)\n",
        "    \n",
        "    lab_img = color.rgb2lab(img)\n",
        "    print(lab_img.shape)\n",
        "    new_img = np.transpose(lab_img, (2, 0, 1))\n",
        "    \n",
        "    L, a, b = new_img\n",
        "    \n",
        "    other_gray = color.rgb2grey(img)\n",
        "    \n",
        "    img_final = stl10_loader2.dataset[0][0].permute(1, 2, 0).numpy()\n",
        "    \n",
        "    print(img_final.shape)\n",
        "    img_final = img_final[:, :, 0]\n",
        "    print(\"<<<<\", img_final.shape)\n",
        "    gray = (L+128)/255\n",
        "    \n",
        "    print(\"---\", gray.shape)\n",
        "    \n",
        "    tmp = sum([val1 == val2 for val1, val2 in zip(gray, img_final)])\n",
        "    \n",
        "    print(tmp)\n",
        "\n",
        "    \n",
        "    plot_img([gray, other_gray, img_final])\n",
        "    \n",
        "    \n",
        "    reconstructed = np.array([gray*255-127, a, b])\n",
        "    trans_rec = np.transpose(reconstructed, (1, 2, 0))\n",
        "    print(trans_rec.shape)\n",
        "    \n",
        "    plt.imshow(color.lab2rgb(trans_rec))\n",
        "    # print(image.shape)\n",
        "    # vutils.save_image(image, \n",
        "    #                   './real_samples.png',\n",
        "    #                   normalize=True)\n",
        "    break"
      ],
      "execution_count": 25,
      "outputs": [
        {
          "output_type": "stream",
          "text": [
            "(128, 128, 3)\n"
          ],
          "name": "stdout"
        },
        {
          "output_type": "error",
          "ename": "NameError",
          "evalue": "ignored",
          "traceback": [
            "\u001b[0;31m---------------------------------------------------------------------------\u001b[0m",
            "\u001b[0;31mNameError\u001b[0m                                 Traceback (most recent call last)",
            "\u001b[0;32m<ipython-input-25-395f96f5221d>\u001b[0m in \u001b[0;36m<module>\u001b[0;34m()\u001b[0m\n\u001b[1;32m     34\u001b[0m     \u001b[0mother_gray\u001b[0m \u001b[0;34m=\u001b[0m \u001b[0mcolor\u001b[0m\u001b[0;34m.\u001b[0m\u001b[0mrgb2grey\u001b[0m\u001b[0;34m(\u001b[0m\u001b[0mimg\u001b[0m\u001b[0;34m)\u001b[0m\u001b[0;34m\u001b[0m\u001b[0;34m\u001b[0m\u001b[0m\n\u001b[1;32m     35\u001b[0m \u001b[0;34m\u001b[0m\u001b[0m\n\u001b[0;32m---> 36\u001b[0;31m     \u001b[0mimg_final\u001b[0m \u001b[0;34m=\u001b[0m \u001b[0mstl10_loader2\u001b[0m\u001b[0;34m.\u001b[0m\u001b[0mdataset\u001b[0m\u001b[0;34m[\u001b[0m\u001b[0;36m0\u001b[0m\u001b[0;34m]\u001b[0m\u001b[0;34m[\u001b[0m\u001b[0;36m0\u001b[0m\u001b[0;34m]\u001b[0m\u001b[0;34m.\u001b[0m\u001b[0mpermute\u001b[0m\u001b[0;34m(\u001b[0m\u001b[0;36m1\u001b[0m\u001b[0;34m,\u001b[0m \u001b[0;36m2\u001b[0m\u001b[0;34m,\u001b[0m \u001b[0;36m0\u001b[0m\u001b[0;34m)\u001b[0m\u001b[0;34m.\u001b[0m\u001b[0mnumpy\u001b[0m\u001b[0;34m(\u001b[0m\u001b[0;34m)\u001b[0m\u001b[0;34m\u001b[0m\u001b[0;34m\u001b[0m\u001b[0m\n\u001b[0m\u001b[1;32m     37\u001b[0m \u001b[0;34m\u001b[0m\u001b[0m\n\u001b[1;32m     38\u001b[0m     \u001b[0mprint\u001b[0m\u001b[0;34m(\u001b[0m\u001b[0mimg_final\u001b[0m\u001b[0;34m.\u001b[0m\u001b[0mshape\u001b[0m\u001b[0;34m)\u001b[0m\u001b[0;34m\u001b[0m\u001b[0;34m\u001b[0m\u001b[0m\n",
            "\u001b[0;31mNameError\u001b[0m: name 'stl10_loader2' is not defined"
          ]
        },
        {
          "output_type": "display_data",
          "data": {
            "image/png": "[encoded data removed]",
            "text/plain": [
              "<Figure size 432x288 with 1 Axes>"
            ]
          },
          "metadata": {
            "tags": []
          }
        }
      ]
    },
    {
      "metadata": {
        "id": "2oAPwlVT9s3e",
        "colab_type": "code",
        "colab": {}
      },
      "cell_type": "code",
      "source": [
        "# Generator model\n",
        "\n",
        "class Generator(nn.Module):\n",
        "    def __init__(self, Z_dim, ngf, ncc):\n",
        "        super(Generator, self).__init__()\n",
        "        \n",
        "        self.layers = nn.Sequential(\n",
        "            # input is Z, going into a convolution\n",
        "            # in_channels, out_channels, kernel_size, stride=1, padding=0\n",
        "            # formula: (in-1)* stride - 2*padding + kernel_size\n",
        "            # 128 -> \n",
        "            \n",
        "            # 1 -> (1-1)*1 - 2*0 + 4 = 4\n",
        "            # in: (100 x 4 x 4)\n",
        "            nn.ConvTranspose2d(Z_dim, ngf*8, 4, 1, 0, bias=False),\n",
        "            nn.BatchNorm2d(ngf*8),\n",
        "            nn.ReLU(),\n",
        "            # state size. (ngf*8) x 4 x 4\n",
        "            nn.ConvTranspose2d(ngf*8, ngf*4, 4, 2, 1, bias=False),\n",
        "            nn.BatchNorm2d(ngf*4),\n",
        "            nn.ReLU(),\n",
        "            # state size. (ngf*4) x 8 x 8\n",
        "            nn.ConvTranspose2d(ngf*4, ngf*2, 4, 2, 1, bias=False),\n",
        "            nn.BatchNorm2d(ngf*2),\n",
        "            nn.ReLU(),\n",
        "            # state size. (ngf*2) x 16 x 16\n",
        "            nn.ConvTranspose2d(ngf*2, ngf, 4, 2, 1, bias=False),\n",
        "            nn.BatchNorm2d(ngf),\n",
        "            nn.ReLU(),\n",
        "            # state size. (ngf) x 32 x 32\n",
        "            nn.ConvTranspose2d(ngf, ngf, 4, 2, 1, bias=False),\n",
        "            nn.Tanh(),\n",
        "            # state size. (ncc) x 64 x 64\n",
        "            nn.ConvTranspose2d(ngf, ncc, 4, 2, 1, bias=False),\n",
        "            nn.Tanh()\n",
        "            # state size. (ncc) x 128 x 128\n",
        "        )\n",
        "        \n",
        "    def forward(self, input_):\n",
        "        output = self.layers(input_)\n",
        "        # print(output.shape)\n",
        "        return output"
      ],
      "execution_count": 0,
      "outputs": []
    },
    {
      "metadata": {
        "id": "_eEU58qYG1eH",
        "colab_type": "code",
        "colab": {}
      },
      "cell_type": "code",
      "source": [
        "# Discriminator model\n",
        "\n",
        "class Discriminator(nn.Module):\n",
        "    def __init__(self, ndf, ncc):\n",
        "        super(Discriminator, self).__init__()\n",
        "        \n",
        "        self.layers = nn.Sequential(\n",
        "            # in_channels, out_channels, kernel_size, stride=1, padding=0, \n",
        "            # Formula: (H + 2*padding -kernel_size)/stride + 1\n",
        "            # (128 + 2*2 - 4)/2+1\n",
        "            # in: 3 x 128 x 128\n",
        "            # out: 128 x 65 x 65 (64 x 33 x 33)\n",
        "            nn.Conv2d(ncc, ndf, 4, 2, 1, bias=False),\n",
        "            nn.LeakyReLU(0.2),\n",
        "            \n",
        "            #out: 256 x 33 x 33 (128 x 17 x 17)\n",
        "            nn.Conv2d(ndf, ndf*2, 4, 2, 1, bias=False),\n",
        "            nn.BatchNorm2d(ndf*2),\n",
        "            nn.LeakyReLU(0.2),\n",
        "            \n",
        "            # out 512 x 17 x 17 (256 x 9 x 9)\n",
        "            nn.Conv2d(ndf*2, ndf*4, 4, 2, 1, bias=False),\n",
        "            nn.BatchNorm2d(ndf*4),\n",
        "            nn.LeakyReLU(0.2),\n",
        "            \n",
        "            # out 1024 x 9 x 9 (512 x 5 x 5)\n",
        "            nn.Conv2d(ndf*4, ndf*8, 4, 2, 1, bias=False),\n",
        "            nn.BatchNorm2d(ndf*8),\n",
        "            nn.LeakyReLU(0.2),\n",
        "            \n",
        "            # # out: 1024 x 5 x 5 \n",
        "            nn.Conv2d(ndf*8, ndf*8, 4, 2, 1, bias=False),\n",
        "            nn.BatchNorm2d(ndf*8),\n",
        "            nn.LeakyReLU(0.2),\n",
        "            \n",
        "            # out (1 x 1 x 1)\n",
        "            nn.Conv2d(ndf*8, 1, 4, 1, 0, bias=False),\n",
        "            # nn.Sigmoid()\n",
        "            \n",
        "        )\n",
        "    \n",
        "    def forward(self, input_):\n",
        "        # print(\"before\")\n",
        "        output = self.layers(input_)\n",
        "        # print(output.shape)\n",
        "        # print(\"after\")\n",
        "        return output.view(-1, 1).squeeze(1)"
      ],
      "execution_count": 0,
      "outputs": []
    },
    {
      "metadata": {
        "id": "T0jeX_vUF6RR",
        "colab_type": "code",
        "colab": {}
      },
      "cell_type": "code",
      "source": [
        "# custom weights initialization called on netG and netD\n",
        "def weights_init(m):\n",
        "    classname = m.__class__.__name__\n",
        "    if classname.find('Conv') != -1:\n",
        "        m.weight.data.normal_(0.0, 0.02)\n",
        "    elif classname.find('BatchNorm') != -1:\n",
        "        m.weight.data.normal_(1.0, 0.02)\n",
        "        m.bias.data.fill_(0)"
      ],
      "execution_count": 0,
      "outputs": []
    },
    {
      "metadata": {
        "id": "0crKBjSbBoS2",
        "colab_type": "code",
        "outputId": "208c3ceb-7ad9-472c-bc49-69fcb4d8a483",
        "colab": {
          "base_uri": "https://localhost:8080/",
          "height": 34
        }
      },
      "cell_type": "code",
      "source": [
        "# Dimension of the latent space\n",
        "Z_dim = 100\n",
        "\n",
        "# Number of color channel in the final image\n",
        "ncc = 2\n",
        "\n",
        "# Number of ?\n",
        "ngf, ndf = 128, 128\n",
        "# ngf, ndf = 64, 64\n",
        "\n",
        "device = torch.device(\"cuda:0\" if torch.cuda.is_available() else \"cpu\")\n",
        "\n",
        "print(device)"
      ],
      "execution_count": 7,
      "outputs": [
        {
          "output_type": "stream",
          "text": [
            "cuda:0\n"
          ],
          "name": "stdout"
        }
      ]
    },
    {
      "metadata": {
        "id": "6Yo0ScXOGEf1",
        "colab_type": "code",
        "outputId": "51d3eb34-9a33-4d22-e39b-5a37bb62b1ad",
        "colab": {
          "base_uri": "https://localhost:8080/",
          "height": 694
        }
      },
      "cell_type": "code",
      "source": [
        "netG = Generator(Z_dim, ngf, ncc).to(device)\n",
        "netG.apply(weights_init)\n",
        "print(netG)\n",
        "\n",
        "netD = Discriminator(ndf, 3).to(device)\n",
        "netD.apply(weights_init)\n",
        "print(netD)"
      ],
      "execution_count": 8,
      "outputs": [
        {
          "output_type": "stream",
          "text": [
            "Generator(\n",
            "  (layers): Sequential(\n",
            "    (0): ConvTranspose2d(100, 1024, kernel_size=(4, 4), stride=(1, 1), bias=False)\n",
            "    (1): BatchNorm2d(1024, eps=1e-05, momentum=0.1, affine=True, track_running_stats=True)\n",
            "    (2): ReLU()\n",
            "    (3): ConvTranspose2d(1024, 512, kernel_size=(4, 4), stride=(2, 2), padding=(1, 1), bias=False)\n",
            "    (4): BatchNorm2d(512, eps=1e-05, momentum=0.1, affine=True, track_running_stats=True)\n",
            "    (5): ReLU()\n",
            "    (6): ConvTranspose2d(512, 256, kernel_size=(4, 4), stride=(2, 2), padding=(1, 1), bias=False)\n",
            "    (7): BatchNorm2d(256, eps=1e-05, momentum=0.1, affine=True, track_running_stats=True)\n",
            "    (8): ReLU()\n",
            "    (9): ConvTranspose2d(256, 128, kernel_size=(4, 4), stride=(2, 2), padding=(1, 1), bias=False)\n",
            "    (10): BatchNorm2d(128, eps=1e-05, momentum=0.1, affine=True, track_running_stats=True)\n",
            "    (11): ReLU()\n",
            "    (12): ConvTranspose2d(128, 128, kernel_size=(4, 4), stride=(2, 2), padding=(1, 1), bias=False)\n",
            "    (13): Tanh()\n",
            "    (14): ConvTranspose2d(128, 2, kernel_size=(4, 4), stride=(2, 2), padding=(1, 1), bias=False)\n",
            "    (15): Tanh()\n",
            "  )\n",
            ")\n",
            "Discriminator(\n",
            "  (layers): Sequential(\n",
            "    (0): Conv2d(3, 128, kernel_size=(4, 4), stride=(2, 2), padding=(1, 1), bias=False)\n",
            "    (1): LeakyReLU(negative_slope=0.2)\n",
            "    (2): Conv2d(128, 256, kernel_size=(4, 4), stride=(2, 2), padding=(1, 1), bias=False)\n",
            "    (3): BatchNorm2d(256, eps=1e-05, momentum=0.1, affine=True, track_running_stats=True)\n",
            "    (4): LeakyReLU(negative_slope=0.2)\n",
            "    (5): Conv2d(256, 512, kernel_size=(4, 4), stride=(2, 2), padding=(1, 1), bias=False)\n",
            "    (6): BatchNorm2d(512, eps=1e-05, momentum=0.1, affine=True, track_running_stats=True)\n",
            "    (7): LeakyReLU(negative_slope=0.2)\n",
            "    (8): Conv2d(512, 1024, kernel_size=(4, 4), stride=(2, 2), padding=(1, 1), bias=False)\n",
            "    (9): BatchNorm2d(1024, eps=1e-05, momentum=0.1, affine=True, track_running_stats=True)\n",
            "    (10): LeakyReLU(negative_slope=0.2)\n",
            "    (11): Conv2d(1024, 1024, kernel_size=(4, 4), stride=(2, 2), padding=(1, 1), bias=False)\n",
            "    (12): BatchNorm2d(1024, eps=1e-05, momentum=0.1, affine=True, track_running_stats=True)\n",
            "    (13): LeakyReLU(negative_slope=0.2)\n",
            "    (14): Conv2d(1024, 1, kernel_size=(4, 4), stride=(1, 1), bias=False)\n",
            "  )\n",
            ")\n"
          ],
          "name": "stdout"
        }
      ]
    },
    {
      "metadata": {
        "id": "RvVggvZgGsgT",
        "colab_type": "code",
        "colab": {}
      },
      "cell_type": "code",
      "source": [
        "# Setup loss function\n",
        "criterion = nn.BCELoss()\n",
        "criterion = nn.MSELoss()\n",
        "batch_size = params_loader['batch_size']\n",
        "\n",
        "learning_rate = 0.0002\n",
        "nb_epochs = 30\n",
        "\n",
        "# Setup optimizer\n",
        "optimizerD = optim.Adam(netD.parameters(), lr=learning_rate, betas=(0.5, 0.999))\n",
        "optimizerG = optim.Adam(netG.parameters(), lr=learning_rate, betas=(0.5, 0.999))\n",
        "\n",
        "\n",
        "fixed_noise = torch.randn(batch_size, Z_dim, 1, 1, device=device)\n",
        "\n",
        "real_label = 1\n",
        "fake_label = 0\n",
        "\n",
        "\n",
        "\n",
        "real_labels = torch.full((batch_size,), real_label, device=device)\n",
        "fake_labels = torch.full((batch_size,), fake_label, device=device)"
      ],
      "execution_count": 0,
      "outputs": []
    },
    {
      "metadata": {
        "id": "liV637DQKQ3P",
        "colab_type": "code",
        "outputId": "d78597c7-3046-4713-f471-b2e7ca53bfc7",
        "colab": {
          "base_uri": "https://localhost:8080/",
          "height": 34
        }
      },
      "cell_type": "code",
      "source": [
        "import numpy as np\n",
        "import warnings\n",
        "\n",
        "def convert_lab2rgb(L, ab):\n",
        "    ab = ab*100\n",
        "    # Normalize grayscale to rgb\n",
        "    L = L*255-128\n",
        "    \n",
        "    # Add missing dim:\n",
        "    # batch_size x img_size x img_size -> batch_size x 1 x img_size x img_size\n",
        "    L.unsqueeze_(1)\n",
        "    \n",
        "    # Concatanet gray tensor with ab tensor\n",
        "    colorized_img = torch.cat((L, ab), 1)\n",
        "    \n",
        "    # Convert the color space: lab -> rgb\n",
        "    reversed_img = colorized_img.cpu().double().detach().permute(0, 2, 3, 1).numpy()\n",
        "\n",
        "    for i in range(reversed_img.shape[0]):\n",
        "        # Remove warning of bad color range.\n",
        "        warnings.simplefilter(\"ignore\")\n",
        "        reversed_img[i,:,:,:] = color.lab2rgb(reversed_img[i,:,:,:])\n",
        "        \n",
        "    output = torch.from_numpy(reversed_img).float().permute(0, 3, 1, 2)\n",
        "    \n",
        "    return output.to(device)\n",
        "    \n",
        "\n",
        "for epoch in range(nb_epochs):\n",
        "    for i, (gray_img, color_img) in enumerate(train_loader, 0):\n",
        "        # Load data on GPU\n",
        "        gray_img = gray_img.to(device)\n",
        "        color_img = color_img.to(device)\n",
        "        \n",
        "        \n",
        "        ############################\n",
        "        # (1) Update D network: maximize log(D(x)) + log(1 - D(G(z)))\n",
        "        ###########################\n",
        "        # train with real\n",
        "        netD.zero_grad()\n",
        "        \n",
        "        # Feed the discriminator with real image\n",
        "        output = netD(color_img)\n",
        "\n",
        "        errD_real = criterion(output, real_labels) # 0.5 * torch.mean((output-label)**2) # criterion(output, label)\n",
        "        errD_real.backward()\n",
        "        \n",
        "        D_x = output.mean().item()\n",
        "\n",
        "        # train with fake\n",
        "        noise = torch.randn(batch_size, Z_dim, 1, 1, device=device)\n",
        "        # noise will be replace.\n",
        "        \n",
        "        fake_colors = netG(noise)\n",
        "        \n",
        "        print(fake_colors.shape)\n",
        "        \n",
        "        colorized_img = convert_lab2rgb(gray_img, fake_colors)\n",
        "        \n",
        "        break\n",
        "\n",
        "        output = netD(fake.detach())\n",
        "        \n",
        "        errD_fake = criterion(output, fake_labels) # 0.5 * torch.mean((output-label)**2) # criterion(output, label)\n",
        "        errD_fake.backward()\n",
        "        D_G_z1 = output.mean().item()\n",
        "        \n",
        "        errD = errD_real + errD_fake\n",
        "        optimizerD.step()\n",
        "\n",
        "        ############################\n",
        "        # (2) Update G network: maximize log(D(G(z)))\n",
        "        ###########################\n",
        "        netG.zero_grad()\n",
        "\n",
        "        output = netD(fake)\n",
        "        errG = criterion(output, real_labels) # 0.5 * torch.mean((output-label)**2) # criterion(output, label)\n",
        "        errG.backward()\n",
        "        D_G_z2 = output.mean().item()\n",
        "        optimizerG.step()\n",
        "\n",
        "        print(f'[{epoch}/{nb_epochs}][{i}/{len(stl10_loader)}]\\\n",
        "              Loss_D: {errD.item():.4f} Loss_G: {errG.item():.4f}\\\n",
        "              D(x): {D_x:.4f} D(G(z)): {D_G_z1:.4f} / {D_G_z2:.4f}')\n",
        "        if i % 100 == 0:\n",
        "            vutils.save_image(real_cpu,\n",
        "                              './real_samples.png',\n",
        "                              normalize=True)\n",
        "            fake = netG(fixed_noise)\n",
        "            vutils.save_image(fake.detach(),\n",
        "                              f'./fake_samples_epoch_{epoch}.png',\n",
        "                              normalize=True)\n",
        "        \n",
        "        break\n",
        "    break\n",
        "\n",
        "    # do checkpointing\n",
        "    torch.save(netG.state_dict(), f'./netG_epoch_{epoch}.pth')\n",
        "    torch.save(netD.state_dict(), f'./netD_epoch_{epoch}.pth')\n",
        "        "
      ],
      "execution_count": 51,
      "outputs": [
        {
          "output_type": "stream",
          "text": [
            "torch.Size([32, 2, 128, 128])\n"
          ],
          "name": "stdout"
        }
      ]
    },
    {
      "metadata": {
        "id": "HrFqlgK7NHfi",
        "colab_type": "code",
        "colab": {}
      },
      "cell_type": "code",
      "source": [
        ""
      ],
      "execution_count": 0,
      "outputs": []
    }
  ]
}