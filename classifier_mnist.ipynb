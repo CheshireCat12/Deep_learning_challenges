{
  "nbformat": 4,
  "nbformat_minor": 0,
  "metadata": {
    "colab": {
      "name": "classifier_mnist.ipynb",
      "version": "0.3.2",
      "provenance": [],
      "collapsed_sections": [],
      "include_colab_link": true
    },
    "kernelspec": {
      "name": "python3",
      "display_name": "Python 3"
    },
    "accelerator": "GPU"
  },
  "cells": [
    {
      "cell_type": "markdown",
      "metadata": {
        "id": "view-in-github",
        "colab_type": "text"
      },
      "source": [
        "<a href=\"https://colab.research.google.com/github/CheshireCat12/Deep_learning_challenges/blob/master/classifier_mnist.ipynb\" target=\"_parent\"><img src=\"https://colab.research.google.com/assets/colab-badge.svg\" alt=\"Open In Colab\"/></a>"
      ]
    },
    {
      "metadata": {
        "id": "gx9HI3AjTL2r",
        "colab_type": "code",
        "outputId": "4ad0d3bd-ba34-4391-aefc-c960f9048fdf",
        "colab": {
          "base_uri": "https://localhost:8080/",
          "height": 124
        }
      },
      "cell_type": "code",
      "source": [
        "!pip3 install torch torchvision"
      ],
      "execution_count": 0,
      "outputs": [
        {
          "output_type": "stream",
          "text": [
            "Requirement already satisfied: torch in /usr/local/lib/python3.6/dist-packages (1.0.1.post2)\n",
            "Requirement already satisfied: torchvision in /usr/local/lib/python3.6/dist-packages (0.2.2.post2)\n",
            "Requirement already satisfied: pillow>=4.1.1 in /usr/local/lib/python3.6/dist-packages (from torchvision) (5.4.1)\n",
            "Requirement already satisfied: numpy in /usr/local/lib/python3.6/dist-packages (from torchvision) (1.14.6)\n",
            "Requirement already satisfied: six in /usr/local/lib/python3.6/dist-packages (from torchvision) (1.11.0)\n"
          ],
          "name": "stdout"
        }
      ]
    },
    {
      "metadata": {
        "id": "f5a7uebETsW_",
        "colab_type": "code",
        "colab": {}
      },
      "cell_type": "code",
      "source": [
        "import numpy as np\n",
        "\n",
        "%matplotlib inline\n",
        "import matplotlib.pyplot as plt\n",
        "\n",
        "import torch\n",
        "import torch.nn as nn\n",
        "import torchvision.datasets as datasets\n",
        "import torchvision.transforms as transforms\n",
        "\n",
        "from torch.autograd import Variable\n",
        "from torch.utils.data import DataLoader"
      ],
      "execution_count": 0,
      "outputs": []
    },
    {
      "metadata": {
        "id": "XldVJNKrYGw1",
        "colab_type": "code",
        "colab": {}
      },
      "cell_type": "code",
      "source": [
        "BATCH_SIZE = 32"
      ],
      "execution_count": 0,
      "outputs": []
    },
    {
      "metadata": {
        "id": "04hxbn39XFmT",
        "colab_type": "code",
        "colab": {}
      },
      "cell_type": "code",
      "source": [
        "train_dataset = datasets.MNIST(root='./data',\n",
        "                           train=True,\n",
        "                           transform=transforms.ToTensor(),\n",
        "                           download=True)\n",
        "\n",
        "test_dataset = datasets.MNIST(root='./data',\n",
        "                           train=False,\n",
        "                           transform=transforms.ToTensor())"
      ],
      "execution_count": 0,
      "outputs": []
    },
    {
      "metadata": {
        "id": "XF0sadjhXLT0",
        "colab_type": "code",
        "colab": {}
      },
      "cell_type": "code",
      "source": [
        "train_loader = DataLoader(train_dataset,\n",
        "                          batch_size=BATCH_SIZE,\n",
        "                          shuffle=True)\n",
        "test_loader = DataLoader(test_dataset,\n",
        "                         batch_size=BATCH_SIZE,\n",
        "                         shuffle=True)"
      ],
      "execution_count": 0,
      "outputs": []
    },
    {
      "metadata": {
        "id": "qalveloqXb5g",
        "colab_type": "code",
        "colab": {}
      },
      "cell_type": "code",
      "source": [
        "class CNN(nn.Module):\n",
        "    \n",
        "    def __init__(self):\n",
        "        super(CNN, self).__init__()\n",
        "        \n",
        "        self.conv1 = nn.Sequential(\n",
        "            nn.Conv2d(1, 16, kernel_size=3, stride=1, padding=1),\n",
        "            nn.ReLU()\n",
        "        )\n",
        "        self.conv2 = nn.Sequential(\n",
        "            nn.Conv2d(16, 16, kernel_size=3, stride=1, padding=1),\n",
        "            nn.ReLU()\n",
        "        )\n",
        "        self.conv3 = nn.Sequential(\n",
        "            nn.Conv2d(16, 64, kernel_size=3, stride=1, padding=1),\n",
        "            nn.ReLU()\n",
        "        )\n",
        "        self.conv4 = nn.Sequential(\n",
        "            nn.Conv2d(64, 32, kernel_size=3, stride=1, padding=1),\n",
        "            nn.ReLU(),\n",
        "            nn.MaxPool2d(2)\n",
        "        )\n",
        "        self.conv5 = nn.Sequential(\n",
        "            nn.Conv2d(32, 8, kernel_size=1, stride=1, padding=0),\n",
        "            nn.ReLU(),\n",
        "            nn.MaxPool2d(2)\n",
        "        )\n",
        "        self.layers_fc = nn.Sequential(\n",
        "            nn.Linear(8*7*7, 512),\n",
        "            nn.ReLU(),\n",
        "            nn.Dropout(0.5),\n",
        "            nn.Linear(512, 128),\n",
        "            nn.ReLU(),\n",
        "            nn.Dropout(0.5),\n",
        "            nn.Linear(128, 20),\n",
        "            nn.ReLU(),\n",
        "            nn.Linear(20, 10)\n",
        "        )\n",
        "        \n",
        "        \n",
        "    \n",
        "    def forward(self, x):\n",
        "        x = self.conv1(x)\n",
        "        x = self.conv2(x)\n",
        "        x = self.conv3(x)\n",
        "        x = self.conv4(x)\n",
        "        x = self.conv5(x)\n",
        "        x = x.view(x.size(0), -1)\n",
        "        output = self.layers_fc(x)\n",
        "        \n",
        "        return output, x\n",
        "        "
      ],
      "execution_count": 0,
      "outputs": []
    },
    {
      "metadata": {
        "id": "oKVLEjfzaLkU",
        "colab_type": "code",
        "outputId": "9a80a273-d783-422d-b0dd-ca7ab2e65f05",
        "colab": {
          "base_uri": "https://localhost:8080/",
          "height": 625
        }
      },
      "cell_type": "code",
      "source": [
        "device = torch.device(\"cuda:0\" if torch.cuda.is_available() else \"cpu\")\n",
        "\n",
        "cnn = CNN()\n",
        "\n",
        "cnn.to(device)"
      ],
      "execution_count": 122,
      "outputs": [
        {
          "output_type": "execute_result",
          "data": {
            "text/plain": [
              "CNN(\n",
              "  (conv1): Sequential(\n",
              "    (0): Conv2d(1, 16, kernel_size=(3, 3), stride=(1, 1), padding=(1, 1))\n",
              "    (1): ReLU()\n",
              "  )\n",
              "  (conv2): Sequential(\n",
              "    (0): Conv2d(16, 16, kernel_size=(3, 3), stride=(1, 1), padding=(1, 1))\n",
              "    (1): ReLU()\n",
              "  )\n",
              "  (conv3): Sequential(\n",
              "    (0): Conv2d(16, 64, kernel_size=(3, 3), stride=(1, 1), padding=(1, 1))\n",
              "    (1): ReLU()\n",
              "  )\n",
              "  (conv4): Sequential(\n",
              "    (0): Conv2d(64, 32, kernel_size=(3, 3), stride=(1, 1), padding=(1, 1))\n",
              "    (1): ReLU()\n",
              "    (2): MaxPool2d(kernel_size=2, stride=2, padding=0, dilation=1, ceil_mode=False)\n",
              "  )\n",
              "  (conv5): Sequential(\n",
              "    (0): Conv2d(32, 8, kernel_size=(1, 1), stride=(1, 1))\n",
              "    (1): ReLU()\n",
              "    (2): MaxPool2d(kernel_size=2, stride=2, padding=0, dilation=1, ceil_mode=False)\n",
              "  )\n",
              "  (layers_fc): Sequential(\n",
              "    (0): Linear(in_features=392, out_features=512, bias=True)\n",
              "    (1): ReLU()\n",
              "    (2): Dropout(p=0.5)\n",
              "    (3): Linear(in_features=512, out_features=128, bias=True)\n",
              "    (4): ReLU()\n",
              "    (5): Dropout(p=0.5)\n",
              "    (6): Linear(in_features=128, out_features=20, bias=True)\n",
              "    (7): ReLU()\n",
              "    (8): Linear(in_features=20, out_features=10, bias=True)\n",
              "  )\n",
              ")"
            ]
          },
          "metadata": {
            "tags": []
          },
          "execution_count": 122
        }
      ]
    },
    {
      "metadata": {
        "id": "dK0fJLDjey7F",
        "colab_type": "code",
        "colab": {}
      },
      "cell_type": "code",
      "source": [
        "def train(model, train_dataloader, val_dataloader, optimizer, nb_epochs, loss_func):\n",
        "    \n",
        "    train_losses = []\n",
        "    train_accuracies = []\n",
        "    val_losses = []\n",
        "    val_accuracies = []\n",
        "    \n",
        "    for epoch in range(nb_epochs):\n",
        "        ## Training phase\n",
        "        model.train()\n",
        "        \n",
        "        losses = []\n",
        "        correct_train_pred = 0\n",
        "        \n",
        "        for images, labels in train_dataloader:\n",
        "            images = images.to(device)\n",
        "            labels = labels.to(device)\n",
        "            \n",
        "            output, _ = model(images)\n",
        "            \n",
        "            optimizer.zero_grad()\n",
        "            loss = loss_func(output, labels)\n",
        "            \n",
        "            loss.backward()\n",
        "            optimizer.step()\n",
        "            \n",
        "            losses.append(loss.item())\n",
        "            \n",
        "            predicted_labels = output.argmax(dim=1)\n",
        "            nb_correct = (predicted_labels==labels).sum().item()\n",
        "            correct_train_pred += nb_correct\n",
        "        \n",
        "        train_losses.append(np.mean(np.array(losses)))\n",
        "        train_accuracies.append(100*correct_train_pred/len(train_dataloader.dataset))\n",
        "            \n",
        "            \n",
        "        model.eval()\n",
        "        correct_val_pred = 0\n",
        "        losses = []\n",
        "        \n",
        "        with torch.no_grad():\n",
        "            for images, labels in val_dataloader:\n",
        "                images = images.to(device)\n",
        "                labels = labels.to(device)\n",
        "                \n",
        "                output, _ = model(images)\n",
        "                \n",
        "                loss = loss_func(output, labels)\n",
        "                \n",
        "                losses.append(loss.item())\n",
        "                \n",
        "                predicted_labels = output.argmax(dim=1)\n",
        "                nb_correct = (predicted_labels==labels).sum().item()\n",
        "                correct_val_pred += nb_correct\n",
        "                \n",
        "        val_losses.append(np.mean(np.array(losses)))        \n",
        "        val_accuracies.append(100*correct_val_pred/len(val_dataloader.dataset))\n",
        "        \n",
        "        print(f'Epoch: {epoch+1}/{nb_epochs} |\\\n",
        "                Train_loss: {train_losses[-1]:.4f} |\\\n",
        "                Train_acc: {train_accuracies[-1]:.4f} |\\\n",
        "                Val_loss: {val_losses[-1]:.4f} |\\\n",
        "                Val_acc: {val_accuracies[-1]:-4f}')\n",
        "    return train_losses, train_accuracies, val_losses, val_accuracies"
      ],
      "execution_count": 0,
      "outputs": []
    },
    {
      "metadata": {
        "id": "neg8w3MNkzBk",
        "colab_type": "code",
        "outputId": "6d71879e-7c20-4e23-832e-d1b4ca343ee3",
        "colab": {
          "base_uri": "https://localhost:8080/",
          "height": 555
        }
      },
      "cell_type": "code",
      "source": [
        "nb_epochs = 30\n",
        "#optimizer = torch.optim.SGD(cnn.parameters(), lr=0.1, momentum=0.9)\n",
        "optimizer = torch.optim.Adam(cnn.parameters())\n",
        "loss_func = nn.CrossEntropyLoss()\n",
        "\n",
        "import time\n",
        "\n",
        "start = time.time()\n",
        "\n",
        "train_loss, train_acc, val_loss, val_acc = train(cnn,\n",
        "                                                 train_loader,\n",
        "                                                 test_loader,\n",
        "                                                 optimizer,\n",
        "                                                 nb_epochs,\n",
        "                                                 loss_func)\n",
        "\n",
        "end = time.time()\n",
        "\n",
        "print(f'Execution time : {(end-start)/60}')"
      ],
      "execution_count": 123,
      "outputs": [
        {
          "output_type": "stream",
          "text": [
            "Epoch: 1/30 |                Train_loss: 0.3957 |                Train_acc: 87.4100 |                Val_loss: 0.0690 |                Val_acc: 97.930000\n",
            "Epoch: 2/30 |                Train_loss: 0.1163 |                Train_acc: 96.8883 |                Val_loss: 0.0503 |                Val_acc: 98.540000\n",
            "Epoch: 3/30 |                Train_loss: 0.0888 |                Train_acc: 97.6183 |                Val_loss: 0.0437 |                Val_acc: 98.860000\n",
            "Epoch: 4/30 |                Train_loss: 0.0761 |                Train_acc: 97.9400 |                Val_loss: 0.0442 |                Val_acc: 98.720000\n",
            "Epoch: 5/30 |                Train_loss: 0.0662 |                Train_acc: 98.2350 |                Val_loss: 0.0367 |                Val_acc: 98.910000\n",
            "Epoch: 6/30 |                Train_loss: 0.0596 |                Train_acc: 98.3650 |                Val_loss: 0.0370 |                Val_acc: 98.990000\n",
            "Epoch: 7/30 |                Train_loss: 0.0527 |                Train_acc: 98.6233 |                Val_loss: 0.0319 |                Val_acc: 99.200000\n",
            "Epoch: 8/30 |                Train_loss: 0.0471 |                Train_acc: 98.7150 |                Val_loss: 0.0472 |                Val_acc: 98.850000\n",
            "Epoch: 9/30 |                Train_loss: 0.0455 |                Train_acc: 98.7700 |                Val_loss: 0.0378 |                Val_acc: 99.060000\n",
            "Epoch: 10/30 |                Train_loss: 0.0447 |                Train_acc: 98.7667 |                Val_loss: 0.0339 |                Val_acc: 99.190000\n",
            "Epoch: 11/30 |                Train_loss: 0.0402 |                Train_acc: 98.8617 |                Val_loss: 0.0384 |                Val_acc: 98.980000\n",
            "Epoch: 12/30 |                Train_loss: 0.0398 |                Train_acc: 98.9517 |                Val_loss: 0.0333 |                Val_acc: 99.220000\n",
            "Epoch: 13/30 |                Train_loss: 0.0359 |                Train_acc: 99.0250 |                Val_loss: 0.0344 |                Val_acc: 99.130000\n",
            "Epoch: 14/30 |                Train_loss: 0.0337 |                Train_acc: 99.0883 |                Val_loss: 0.0305 |                Val_acc: 99.160000\n",
            "Epoch: 15/30 |                Train_loss: 0.0322 |                Train_acc: 99.0900 |                Val_loss: 0.0289 |                Val_acc: 99.310000\n",
            "Epoch: 16/30 |                Train_loss: 0.0307 |                Train_acc: 99.1933 |                Val_loss: 0.0295 |                Val_acc: 99.180000\n",
            "Epoch: 17/30 |                Train_loss: 0.0315 |                Train_acc: 99.1567 |                Val_loss: 0.0300 |                Val_acc: 99.250000\n",
            "Epoch: 18/30 |                Train_loss: 0.0300 |                Train_acc: 99.1900 |                Val_loss: 0.0364 |                Val_acc: 99.160000\n",
            "Epoch: 19/30 |                Train_loss: 0.0289 |                Train_acc: 99.2183 |                Val_loss: 0.0290 |                Val_acc: 99.250000\n",
            "Epoch: 20/30 |                Train_loss: 0.0268 |                Train_acc: 99.2933 |                Val_loss: 0.0279 |                Val_acc: 99.300000\n",
            "Epoch: 21/30 |                Train_loss: 0.0269 |                Train_acc: 99.2317 |                Val_loss: 0.0343 |                Val_acc: 99.100000\n",
            "Epoch: 22/30 |                Train_loss: 0.0281 |                Train_acc: 99.2483 |                Val_loss: 0.0330 |                Val_acc: 99.180000\n",
            "Epoch: 23/30 |                Train_loss: 0.0252 |                Train_acc: 99.3050 |                Val_loss: 0.0319 |                Val_acc: 99.200000\n",
            "Epoch: 24/30 |                Train_loss: 0.0240 |                Train_acc: 99.3717 |                Val_loss: 0.0276 |                Val_acc: 99.310000\n",
            "Epoch: 25/30 |                Train_loss: 0.0237 |                Train_acc: 99.3650 |                Val_loss: 0.0249 |                Val_acc: 99.410000\n",
            "Epoch: 26/30 |                Train_loss: 0.0262 |                Train_acc: 99.2900 |                Val_loss: 0.0297 |                Val_acc: 99.230000\n",
            "Epoch: 27/30 |                Train_loss: 0.0230 |                Train_acc: 99.3500 |                Val_loss: 0.0285 |                Val_acc: 99.310000\n",
            "Epoch: 28/30 |                Train_loss: 0.0225 |                Train_acc: 99.3967 |                Val_loss: 0.0339 |                Val_acc: 99.260000\n",
            "Epoch: 29/30 |                Train_loss: 0.0232 |                Train_acc: 99.3567 |                Val_loss: 0.0292 |                Val_acc: 99.240000\n",
            "Epoch: 30/30 |                Train_loss: 0.0216 |                Train_acc: 99.3950 |                Val_loss: 0.0287 |                Val_acc: 99.350000\n",
            "Execution time : 14.745550628503164\n"
          ],
          "name": "stdout"
        }
      ]
    },
    {
      "metadata": {
        "id": "NQH4Lx2ilrWe",
        "colab_type": "code",
        "outputId": "d66061c8-990c-4fcd-9be6-3eb6576eb532",
        "colab": {
          "base_uri": "https://localhost:8080/",
          "height": 571
        }
      },
      "cell_type": "code",
      "source": [
        "def plot(n_epochs, train_losses, val_losses, train_accuracies, val_accuracies):\n",
        "    plt.figure()\n",
        "    plt.plot(np.arange(n_epochs), train_losses)\n",
        "    plt.plot(np.arange(n_epochs), val_losses)\n",
        "    plt.legend(['train_loss', 'val_loss'])\n",
        "    plt.xlabel('epoch')\n",
        "    plt.ylabel('loss value')\n",
        "    plt.title('Train/val loss');\n",
        "\n",
        "    plt.figure()\n",
        "    plt.plot(np.arange(n_epochs), train_accuracies)\n",
        "    plt.plot(np.arange(n_epochs), val_accuracies)\n",
        "    plt.legend(['train_acc', 'val_acc'])\n",
        "    plt.xlabel('epoch')\n",
        "    plt.ylabel('accuracy')\n",
        "    plt.title('Train/val accuracy');\n",
        "\n",
        "plot(nb_epochs, train_loss, val_loss, train_acc, val_acc)"
      ],
      "execution_count": 125,
      "outputs": [
        {
          "output_type": "display_data",
          "data": {
            "image/png": "[encoded data removed]",
            "text/plain": [
              "<Figure size 432x288 with 1 Axes>"
            ]
          },
          "metadata": {
            "tags": []
          }
        },
        {
          "output_type": "display_data",
          "data": {
            "image/png": "[encoded data removed]",
            "text/plain": [
              "<Figure size 432x288 with 1 Axes>"
            ]
          },
          "metadata": {
            "tags": []
          }
        }
      ]
    },
    {
      "metadata": {
        "id": "d-7wTk7sp9N5",
        "colab_type": "code",
        "colab": {}
      },
      "cell_type": "code",
      "source": [
        ""
      ],
      "execution_count": 0,
      "outputs": []
    }
  ]
}