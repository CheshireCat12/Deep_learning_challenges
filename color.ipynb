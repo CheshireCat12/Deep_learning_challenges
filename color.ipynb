{
  "nbformat": 4,
  "nbformat_minor": 0,
  "metadata": {
    "colab": {
      "name": "color.ipynb",
      "version": "0.3.2",
      "provenance": [],
      "collapsed_sections": []
    },
    "kernelspec": {
      "name": "python3",
      "display_name": "Python 3"
    },
    "accelerator": "GPU"
  },
  "cells": [
    {
      "metadata": {
        "id": "Mo7Em7dtH5W5",
        "colab_type": "code",
        "colab": {}
      },
      "cell_type": "code",
      "source": [
        "import torch\n",
        "import torchvision\n",
        "import torch.nn as nn\n",
        "import torch.nn.functional as F\n",
        "import torchvision.datasets as dsets\n",
        "import torchvision.transforms as transforms\n",
        "import torchvision.utils as vutils\n",
        "import torch.optim as optim\n",
        "from torch.utils.data import Dataset\n",
        "\n",
        "from torch.utils.data import DataLoader\n",
        "from torch.autograd import Variable"
      ],
      "execution_count": 0,
      "outputs": []
    },
    {
      "metadata": {
        "id": "ujxWodGjUyuN",
        "colab_type": "code",
        "colab": {}
      },
      "cell_type": "code",
      "source": [
        ""
      ],
      "execution_count": 0,
      "outputs": []
    },
    {
      "metadata": {
        "id": "VO5ZYzlnMUX4",
        "colab_type": "code",
        "colab": {}
      },
      "cell_type": "code",
      "source": [
        "from torchvision.datasets import STL10\n",
        "from skimage import io, color\n",
        "from PIL import Image\n",
        "\n",
        "class STL10GrayColor(STL10):\n",
        "    def grayscale(self) :\n",
        "        pass\n",
        "\n",
        "    def __getitem__(self, index):\n",
        "        \"\"\"\n",
        "        Overwrite the original method to return a grayscaled image and\n",
        "        the same image with the colors.\n",
        "        \n",
        "        Input:\n",
        "            index(int): index of the desired image\n",
        "            \n",
        "        Return:\n",
        "            tensor_gray_img(torch.Tensor): image in black and white\n",
        "            tensor_img(torch.Tensor): image in RGB\n",
        "        \"\"\"\n",
        "        img = self.data[index]\n",
        "        \n",
        "        \n",
        "        \n",
        "        img = Image.fromarray(np.transpose(img, (1, 2, 0)))\n",
        "\n",
        "        if self.transform is not None:\n",
        "            img = self.transform(img)\n",
        "            \n",
        "            # Convert img RGB -> Lab\n",
        "            lab_img = color.rgb2lab(img)\n",
        "            \n",
        "            # Transpose the lab img: dim 128x128x3 -> 3x128x128\n",
        "            L, a, b = np.transpose(lab_img, (2, 0, 1))\n",
        "            \n",
        "            # Normalize\n",
        "            gray_img = (L + 128) / 255\n",
        "            color_img = np.asarray(img) / 255\n",
        "            \n",
        "            # Transform numpy array to torch tensor\n",
        "            tensor_gray_img = torch.tensor(gray_img)\n",
        "            tensor_img = torch.from_numpy(np.transpose(color_img, (2, 0, 1)))\n",
        "            \n",
        "\n",
        "        return (tensor_gray_img, tensor_img)"
      ],
      "execution_count": 0,
      "outputs": []
    },
    {
      "metadata": {
        "id": "c9zC2At5H-N9",
        "colab_type": "code",
        "colab": {}
      },
      "cell_type": "code",
      "source": [
        "# Image preprocessing\n",
        "transform = transforms.Compose([transforms.Resize(128)])\n",
        "\n",
        "transform2 = transforms.Compose([transforms.Resize(128),\n",
        "                                 transforms.ToTensor()])\n",
        "\n",
        "\n",
        "# transforms.ToTensor()"
      ],
      "execution_count": 0,
      "outputs": []
    },
    {
      "metadata": {
        "id": "KX-twuzhIBBB",
        "colab_type": "code",
        "outputId": "7a127c97-142f-4db4-f3c8-5141dc29462b",
        "colab": {
          "base_uri": "https://localhost:8080/",
          "height": 52
        }
      },
      "cell_type": "code",
      "source": [
        "# Load STL10 dataset\n",
        "stl10_trainset = STL10GrayColor(root=\"./data\",\n",
        "                                split='train',\n",
        "                                download=True,\n",
        "                                transform=transform)\n",
        "\n",
        "new_stl = STL10(root=\"./data\",\n",
        "              split='train',\n",
        "              download=True,\n",
        "              transform=transform2)\n",
        "\n",
        "# Parameters\n",
        "params_loader = {'batch_size': 256,\n",
        "                 'shuffle': False}\n",
        "\n",
        "train_loader = DataLoader(stl10_trainset, **params_loader)\n",
        "\n",
        "new_loader = DataLoader(new_stl, **params_loader)"
      ],
      "execution_count": 109,
      "outputs": [
        {
          "output_type": "stream",
          "text": [
            "Files already downloaded and verified\n",
            "Files already downloaded and verified\n"
          ],
          "name": "stdout"
        }
      ]
    },
    {
      "metadata": {
        "id": "oI_hQYZqX3B9",
        "colab_type": "code",
        "colab": {}
      },
      "cell_type": "code",
      "source": [
        "%matplotlib inline\n",
        "import matplotlib.pyplot as plt\n",
        "import numpy as np\n",
        "\n",
        "def plot_img(images):\n",
        "    f, a = plt.subplots(1, len(images), figsize=(14, 6))\n",
        "    \n",
        "    for i, image in enumerate(images):\n",
        "        # img = image.permute(1, 2, 0).numpy()\n",
        "        a[i].imshow(image, cmap=plt.cm.gray)\n",
        "        \n",
        "        a[i].set_xticks(())\n",
        "        a[i].set_yticks(())\n",
        "    \n",
        "\n",
        "    plt.show()\n"
      ],
      "execution_count": 0,
      "outputs": []
    },
    {
      "metadata": {
        "id": "eBWokSgXBG9S",
        "colab_type": "code",
        "outputId": "756ddd78-cb36-4364-b697-4d67101e65d2",
        "colab": {
          "base_uri": "https://localhost:8080/",
          "height": 286
        }
      },
      "cell_type": "code",
      "source": [
        "for gray_img, original_img in train_loader:\n",
        "    # img = image[0].permute(1, 2, 0).numpy()\n",
        "    # plot_img(image[:5])\n",
        "    # print(img.shape)\n",
        "    # print(img)\n",
        "    # plt.imshow(img)\n",
        "    # \n",
        "    # lab_img = color.rgb2lab(img)\n",
        "    # print(lab_img.shape)\n",
        "    # new_img = np.transpose(lab_img, (2, 0, 1))\n",
        "    # \n",
        "    # L, a, b = new_img\n",
        "    # \n",
        "    # other_gray = color.rgb2grey(img)\n",
        "    # \n",
        "    # gray = (L+128)/255\n",
        "    # \n",
        "    # plot_img([gray, other_gray])\n",
        "    # \n",
        "    # \n",
        "    # reconstructed = np.array([gray*255-127, a, b])\n",
        "    # trans_rec = np.transpose(reconstructed, (1, 2, 0))\n",
        "    # print(trans_rec.shape)\n",
        "    # \n",
        "    # plt.imshow(color.lab2rgb(trans_rec))\n",
        "    # print(image.shape)\n",
        "\n",
        "    plt.imshow(gray_img[0], cmap=plt.cm.gray)\n",
        "\n",
        "    vutils.save_image(original_img,\n",
        "                      './original_sample.png')\n",
        "    break\n",
        "    \n",
        "for img, _ in new_loader:\n",
        "    print(img.shape)\n",
        "    vutils.save_image(img,\n",
        "                     './test.png')\n",
        "    break\n"
      ],
      "execution_count": 115,
      "outputs": [
        {
          "output_type": "stream",
          "text": [
            "torch.Size([256, 3, 128, 128])\n"
          ],
          "name": "stdout"
        },
        {
          "output_type": "display_data",
          "data": {
            "image/png": "[encoded data removed]",
            "text/plain": [
              "<Figure size 432x288 with 1 Axes>"
            ]
          },
          "metadata": {
            "tags": []
          }
        }
      ]
    },
    {
      "metadata": {
        "id": "ycfv7GjEID-U",
        "colab_type": "code",
        "outputId": "adf760a9-d51b-46ea-8186-df99dc2ebf8e",
        "colab": {
          "base_uri": "https://localhost:8080/",
          "height": 52
        }
      },
      "cell_type": "code",
      "source": [
        "from torchvision import models\n",
        "vgg = models.vgg16(pretrained=True)"
      ],
      "execution_count": 0,
      "outputs": [
        {
          "output_type": "stream",
          "text": [
            "Downloading: \"https://download.pytorch.org/models/vgg16-397923af.pth\" to /root/.torch/models/vgg16-397923af.pth\n",
            "553433881it [00:07, 69986417.12it/s]\n"
          ],
          "name": "stderr"
        }
      ]
    },
    {
      "metadata": {
        "id": "_7pV6sv4I6mQ",
        "colab_type": "code",
        "outputId": "c9e26f21-d09a-40e3-95a7-e8e46a4f76d4",
        "colab": {
          "base_uri": "https://localhost:8080/",
          "height": 799
        }
      },
      "cell_type": "code",
      "source": [
        "vgg.features[0].in_channels = 1\n",
        "\n",
        "vgg"
      ],
      "execution_count": 0,
      "outputs": [
        {
          "output_type": "execute_result",
          "data": {
            "text/plain": [
              "VGG(\n",
              "  (features): Sequential(\n",
              "    (0): Conv2d(1, 64, kernel_size=(3, 3), stride=(1, 1), padding=(1, 1))\n",
              "    (1): ReLU(inplace)\n",
              "    (2): Conv2d(64, 64, kernel_size=(3, 3), stride=(1, 1), padding=(1, 1))\n",
              "    (3): ReLU(inplace)\n",
              "    (4): MaxPool2d(kernel_size=2, stride=2, padding=0, dilation=1, ceil_mode=False)\n",
              "    (5): Conv2d(64, 128, kernel_size=(3, 3), stride=(1, 1), padding=(1, 1))\n",
              "    (6): ReLU(inplace)\n",
              "    (7): Conv2d(128, 128, kernel_size=(3, 3), stride=(1, 1), padding=(1, 1))\n",
              "    (8): ReLU(inplace)\n",
              "    (9): MaxPool2d(kernel_size=2, stride=2, padding=0, dilation=1, ceil_mode=False)\n",
              "    (10): Conv2d(128, 256, kernel_size=(3, 3), stride=(1, 1), padding=(1, 1))\n",
              "    (11): ReLU(inplace)\n",
              "    (12): Conv2d(256, 256, kernel_size=(3, 3), stride=(1, 1), padding=(1, 1))\n",
              "    (13): ReLU(inplace)\n",
              "    (14): Conv2d(256, 256, kernel_size=(3, 3), stride=(1, 1), padding=(1, 1))\n",
              "    (15): ReLU(inplace)\n",
              "    (16): MaxPool2d(kernel_size=2, stride=2, padding=0, dilation=1, ceil_mode=False)\n",
              "    (17): Conv2d(256, 512, kernel_size=(3, 3), stride=(1, 1), padding=(1, 1))\n",
              "    (18): ReLU(inplace)\n",
              "    (19): Conv2d(512, 512, kernel_size=(3, 3), stride=(1, 1), padding=(1, 1))\n",
              "    (20): ReLU(inplace)\n",
              "    (21): Conv2d(512, 512, kernel_size=(3, 3), stride=(1, 1), padding=(1, 1))\n",
              "    (22): ReLU(inplace)\n",
              "    (23): MaxPool2d(kernel_size=2, stride=2, padding=0, dilation=1, ceil_mode=False)\n",
              "    (24): Conv2d(512, 512, kernel_size=(3, 3), stride=(1, 1), padding=(1, 1))\n",
              "    (25): ReLU(inplace)\n",
              "    (26): Conv2d(512, 512, kernel_size=(3, 3), stride=(1, 1), padding=(1, 1))\n",
              "    (27): ReLU(inplace)\n",
              "    (28): Conv2d(512, 512, kernel_size=(3, 3), stride=(1, 1), padding=(1, 1))\n",
              "    (29): ReLU(inplace)\n",
              "    (30): MaxPool2d(kernel_size=2, stride=2, padding=0, dilation=1, ceil_mode=False)\n",
              "  )\n",
              "  (avgpool): AdaptiveAvgPool2d(output_size=(7, 7))\n",
              "  (classifier): Sequential(\n",
              "    (0): Linear(in_features=25088, out_features=4096, bias=True)\n",
              "    (1): ReLU(inplace)\n",
              "    (2): Dropout(p=0.5)\n",
              "    (3): Linear(in_features=4096, out_features=4096, bias=True)\n",
              "    (4): ReLU(inplace)\n",
              "    (5): Dropout(p=0.5)\n",
              "    (6): Linear(in_features=4096, out_features=1000, bias=True)\n",
              "  )\n",
              ")"
            ]
          },
          "metadata": {
            "tags": []
          },
          "execution_count": 19
        }
      ]
    },
    {
      "metadata": {
        "id": "tTNnuK3gJIU0",
        "colab_type": "code",
        "outputId": "155e1b90-ff67-410d-c368-fca338faa1d9",
        "colab": {
          "base_uri": "https://localhost:8080/",
          "height": 34
        }
      },
      "cell_type": "code",
      "source": [
        "\n"
      ],
      "execution_count": 0,
      "outputs": [
        {
          "output_type": "execute_result",
          "data": {
            "text/plain": [
              "24576"
            ]
          },
          "metadata": {
            "tags": []
          },
          "execution_count": 10
        }
      ]
    },
    {
      "metadata": {
        "id": "AB6-Tfz5JMKD",
        "colab_type": "code",
        "colab": {}
      },
      "cell_type": "code",
      "source": [
        ""
      ],
      "execution_count": 0,
      "outputs": []
    }
  ]
}